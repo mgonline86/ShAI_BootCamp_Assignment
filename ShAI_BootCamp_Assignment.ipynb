{
  "cells": [
    {
      "cell_type": "markdown",
      "metadata": {
        "id": "9veqgG-LVKd3"
      },
      "source": [
        "#About Dataset\n",
        "salaries dataset generally provides information about the employees of an organization in relation to their compensation. It typically includes details such as how much each employee is paid (their salary), their job titles, the departments they work in, and possibly additional information like their level of experience, education, and employment history within the organization."
      ]
    },
    {
      "cell_type": "markdown",
      "metadata": {
        "id": "cZwHdpBfVzOh"
      },
      "source": [
        "# Features\n",
        "- 'Id'\n",
        "- 'EmployeeName'\n",
        "- 'JobTitle'\n",
        "- 'BasePay'\n",
        "- 'OvertimePay'\n",
        "- 'OtherPay'\n",
        "- 'Benefits'\n",
        "- 'TotalPay' -> salary\n",
        "- 'TotalPayBenefits'\n",
        "- 'Year'\n",
        "- 'Notes'\n",
        "- 'Agency'\n",
        "- 'Status'\n"
      ]
    },
    {
      "cell_type": "markdown",
      "metadata": {
        "id": "X1VJposzVrSF"
      },
      "source": [
        "# Tasks\n",
        "\n",
        "1. **Basic Data Exploration**: Identify the number of rows and columns in the dataset, determine the data types of each column, and check for missing values in each column.\n",
        "\n",
        "2. **Descriptive Statistics**: Calculate basic statistics mean, median, mode, minimum, and maximum salary, determine the range of salaries, and find the standard deviation.\n",
        "\n",
        "3. **Data Cleaning**: Handle missing data by suitable method with explain why you use it.\n",
        "\n",
        "4. **Basic Data Visualization**: Create histograms or bar charts to visualize the distribution of salaries, and use pie charts to represent the proportion of employees in different departments.\n",
        "\n",
        "5. **Grouped Analysis**: Group the data by one or more columns and calculate summary statistics for each group, and compare the average salaries across different groups.\n",
        "\n",
        "6. **Simple Correlation Analysis**: Identify any correlation between salary and another numerical column, and plot a scatter plot to visualize the relationship.\n",
        "\n",
        "8. **Summary of Insights**: Write a brief report summarizing the findings and insights from the analyses."
      ]
    },
    {
      "cell_type": "markdown",
      "metadata": {
        "id": "8_rNdHiGUT6A"
      },
      "source": [
        "# Very Important Note\n",
        "There is no fixed or singular solution for this assignment, so if anything is not clear, please do what you understand and provide an explanation."
      ]
    },
    {
      "cell_type": "code",
      "execution_count": 4,
      "metadata": {
        "colab": {
          "base_uri": "https://localhost:8080/",
          "height": 487
        },
        "id": "KmZfk5xkXI2y",
        "outputId": "f1f9d680-78c6-4717-9d18-78bd2a27fbf7"
      },
      "outputs": [
        {
          "data": {
            "text/html": [
              "<div>\n",
              "<style scoped>\n",
              "    .dataframe tbody tr th:only-of-type {\n",
              "        vertical-align: middle;\n",
              "    }\n",
              "\n",
              "    .dataframe tbody tr th {\n",
              "        vertical-align: top;\n",
              "    }\n",
              "\n",
              "    .dataframe thead th {\n",
              "        text-align: right;\n",
              "    }\n",
              "</style>\n",
              "<table border=\"1\" class=\"dataframe\">\n",
              "  <thead>\n",
              "    <tr style=\"text-align: right;\">\n",
              "      <th></th>\n",
              "      <th>Id</th>\n",
              "      <th>EmployeeName</th>\n",
              "      <th>JobTitle</th>\n",
              "      <th>BasePay</th>\n",
              "      <th>OvertimePay</th>\n",
              "      <th>OtherPay</th>\n",
              "      <th>Benefits</th>\n",
              "      <th>TotalPay</th>\n",
              "      <th>TotalPayBenefits</th>\n",
              "      <th>Year</th>\n",
              "      <th>Notes</th>\n",
              "      <th>Agency</th>\n",
              "      <th>Status</th>\n",
              "    </tr>\n",
              "  </thead>\n",
              "  <tbody>\n",
              "    <tr>\n",
              "      <th>0</th>\n",
              "      <td>1</td>\n",
              "      <td>NATHANIEL FORD</td>\n",
              "      <td>GENERAL MANAGER-METROPOLITAN TRANSIT AUTHORITY</td>\n",
              "      <td>167411.18</td>\n",
              "      <td>0.00</td>\n",
              "      <td>400184.25</td>\n",
              "      <td>NaN</td>\n",
              "      <td>567595.43</td>\n",
              "      <td>567595.43</td>\n",
              "      <td>2011</td>\n",
              "      <td>NaN</td>\n",
              "      <td>San Francisco</td>\n",
              "      <td>NaN</td>\n",
              "    </tr>\n",
              "    <tr>\n",
              "      <th>1</th>\n",
              "      <td>2</td>\n",
              "      <td>GARY JIMENEZ</td>\n",
              "      <td>CAPTAIN III (POLICE DEPARTMENT)</td>\n",
              "      <td>155966.02</td>\n",
              "      <td>245131.88</td>\n",
              "      <td>137811.38</td>\n",
              "      <td>NaN</td>\n",
              "      <td>538909.28</td>\n",
              "      <td>538909.28</td>\n",
              "      <td>2011</td>\n",
              "      <td>NaN</td>\n",
              "      <td>San Francisco</td>\n",
              "      <td>NaN</td>\n",
              "    </tr>\n",
              "    <tr>\n",
              "      <th>2</th>\n",
              "      <td>3</td>\n",
              "      <td>ALBERT PARDINI</td>\n",
              "      <td>CAPTAIN III (POLICE DEPARTMENT)</td>\n",
              "      <td>212739.13</td>\n",
              "      <td>106088.18</td>\n",
              "      <td>16452.60</td>\n",
              "      <td>NaN</td>\n",
              "      <td>335279.91</td>\n",
              "      <td>335279.91</td>\n",
              "      <td>2011</td>\n",
              "      <td>NaN</td>\n",
              "      <td>San Francisco</td>\n",
              "      <td>NaN</td>\n",
              "    </tr>\n",
              "    <tr>\n",
              "      <th>3</th>\n",
              "      <td>4</td>\n",
              "      <td>CHRISTOPHER CHONG</td>\n",
              "      <td>WIRE ROPE CABLE MAINTENANCE MECHANIC</td>\n",
              "      <td>77916.00</td>\n",
              "      <td>56120.71</td>\n",
              "      <td>198306.90</td>\n",
              "      <td>NaN</td>\n",
              "      <td>332343.61</td>\n",
              "      <td>332343.61</td>\n",
              "      <td>2011</td>\n",
              "      <td>NaN</td>\n",
              "      <td>San Francisco</td>\n",
              "      <td>NaN</td>\n",
              "    </tr>\n",
              "    <tr>\n",
              "      <th>4</th>\n",
              "      <td>5</td>\n",
              "      <td>PATRICK GARDNER</td>\n",
              "      <td>DEPUTY CHIEF OF DEPARTMENT,(FIRE DEPARTMENT)</td>\n",
              "      <td>134401.60</td>\n",
              "      <td>9737.00</td>\n",
              "      <td>182234.59</td>\n",
              "      <td>NaN</td>\n",
              "      <td>326373.19</td>\n",
              "      <td>326373.19</td>\n",
              "      <td>2011</td>\n",
              "      <td>NaN</td>\n",
              "      <td>San Francisco</td>\n",
              "      <td>NaN</td>\n",
              "    </tr>\n",
              "  </tbody>\n",
              "</table>\n",
              "</div>"
            ],
            "text/plain": [
              "   Id       EmployeeName                                        JobTitle  \\\n",
              "0   1     NATHANIEL FORD  GENERAL MANAGER-METROPOLITAN TRANSIT AUTHORITY   \n",
              "1   2       GARY JIMENEZ                 CAPTAIN III (POLICE DEPARTMENT)   \n",
              "2   3     ALBERT PARDINI                 CAPTAIN III (POLICE DEPARTMENT)   \n",
              "3   4  CHRISTOPHER CHONG            WIRE ROPE CABLE MAINTENANCE MECHANIC   \n",
              "4   5    PATRICK GARDNER    DEPUTY CHIEF OF DEPARTMENT,(FIRE DEPARTMENT)   \n",
              "\n",
              "     BasePay  OvertimePay   OtherPay  Benefits   TotalPay  TotalPayBenefits  \\\n",
              "0  167411.18         0.00  400184.25       NaN  567595.43         567595.43   \n",
              "1  155966.02    245131.88  137811.38       NaN  538909.28         538909.28   \n",
              "2  212739.13    106088.18   16452.60       NaN  335279.91         335279.91   \n",
              "3   77916.00     56120.71  198306.90       NaN  332343.61         332343.61   \n",
              "4  134401.60      9737.00  182234.59       NaN  326373.19         326373.19   \n",
              "\n",
              "   Year  Notes         Agency  Status  \n",
              "0  2011    NaN  San Francisco     NaN  \n",
              "1  2011    NaN  San Francisco     NaN  \n",
              "2  2011    NaN  San Francisco     NaN  \n",
              "3  2011    NaN  San Francisco     NaN  \n",
              "4  2011    NaN  San Francisco     NaN  "
            ]
          },
          "execution_count": 4,
          "metadata": {},
          "output_type": "execute_result"
        }
      ],
      "source": [
        "import pandas as pd\n",
        "import numpy as np\n",
        "import matplotlib.pyplot as plt\n",
        "%matplotlib inline\n",
        "\n",
        "# Load your dataset\n",
        "df = pd.read_csv('Salaries.csv')\n",
        "df.head()"
      ]
    },
    {
      "cell_type": "code",
      "execution_count": 5,
      "metadata": {
        "colab": {
          "base_uri": "https://localhost:8080/"
        },
        "id": "xIT514wlvvBZ",
        "outputId": "ace37d53-4721-46ec-881b-dea0e9c62642"
      },
      "outputs": [
        {
          "data": {
            "text/plain": [
              "Index(['Id', 'EmployeeName', 'JobTitle', 'BasePay', 'OvertimePay', 'OtherPay',\n",
              "       'Benefits', 'TotalPay', 'TotalPayBenefits', 'Year', 'Notes', 'Agency',\n",
              "       'Status'],\n",
              "      dtype='object')"
            ]
          },
          "execution_count": 5,
          "metadata": {},
          "output_type": "execute_result"
        }
      ],
      "source": [
        "df.columns"
      ]
    },
    {
      "cell_type": "markdown",
      "metadata": {
        "id": "HE9jbRjcUyoX"
      },
      "source": [
        "# Good Luck!"
      ]
    },
    {
      "cell_type": "markdown",
      "metadata": {
        "id": "7mlOqqS3zX05"
      },
      "source": [
        "---\n",
        "---\n",
        "\n",
        "# *******Solution Starting Point*******"
      ]
    },
    {
      "cell_type": "markdown",
      "metadata": {
        "id": "QEZ_aPPJGHAr"
      },
      "source": [
        "---\n",
        "\n",
        "\n",
        "## **1. Basic Data Exploration:**"
      ]
    },
    {
      "cell_type": "markdown",
      "metadata": {
        "id": "JVVJ9_SeQe6P"
      },
      "source": [
        "Okay let's get some Info about our Data..."
      ]
    },
    {
      "cell_type": "code",
      "execution_count": 6,
      "metadata": {
        "colab": {
          "base_uri": "https://localhost:8080/"
        },
        "id": "bbIN2ujHUyRx",
        "outputId": "909ff368-df6b-479e-841f-665c262caa5a"
      },
      "outputs": [
        {
          "name": "stdout",
          "output_type": "stream",
          "text": [
            "<class 'pandas.core.frame.DataFrame'>\n",
            "RangeIndex: 148654 entries, 0 to 148653\n",
            "Data columns (total 13 columns):\n",
            " #   Column            Non-Null Count   Dtype  \n",
            "---  ------            --------------   -----  \n",
            " 0   Id                148654 non-null  int64  \n",
            " 1   EmployeeName      148654 non-null  object \n",
            " 2   JobTitle          148654 non-null  object \n",
            " 3   BasePay           148045 non-null  float64\n",
            " 4   OvertimePay       148650 non-null  float64\n",
            " 5   OtherPay          148650 non-null  float64\n",
            " 6   Benefits          112491 non-null  float64\n",
            " 7   TotalPay          148654 non-null  float64\n",
            " 8   TotalPayBenefits  148654 non-null  float64\n",
            " 9   Year              148654 non-null  int64  \n",
            " 10  Notes             0 non-null       float64\n",
            " 11  Agency            148654 non-null  object \n",
            " 12  Status            0 non-null       float64\n",
            "dtypes: float64(8), int64(2), object(3)\n",
            "memory usage: 14.7+ MB\n"
          ]
        }
      ],
      "source": [
        "df.info()"
      ]
    },
    {
      "cell_type": "code",
      "execution_count": 7,
      "metadata": {
        "colab": {
          "base_uri": "https://localhost:8080/"
        },
        "id": "Ix6tamxhAM4h",
        "outputId": "91dbddb8-d477-4736-b282-39703498a9e8"
      },
      "outputs": [
        {
          "name": "stdout",
          "output_type": "stream",
          "text": [
            "EmployeeName: <class 'str'>\n",
            "JobTitle: <class 'str'>\n",
            "Agency: <class 'str'>\n"
          ]
        }
      ],
      "source": [
        "# Just to be sure 😅\n",
        "print(\"EmployeeName:\", type(df.EmployeeName[0]))\n",
        "print(\"JobTitle:\", type(df.JobTitle[0]))\n",
        "print(\"Agency:\", type(df.Agency[0]))"
      ]
    },
    {
      "cell_type": "code",
      "execution_count": 8,
      "metadata": {
        "colab": {
          "base_uri": "https://localhost:8080/"
        },
        "id": "PN7Lf-phP86f",
        "outputId": "e53cab4d-be5c-4020-b22c-7d23f61a3333"
      },
      "outputs": [
        {
          "data": {
            "text/plain": [
              "Id                       0\n",
              "EmployeeName             0\n",
              "JobTitle                 0\n",
              "BasePay                609\n",
              "OvertimePay              4\n",
              "OtherPay                 4\n",
              "Benefits             36163\n",
              "TotalPay                 0\n",
              "TotalPayBenefits         0\n",
              "Year                     0\n",
              "Notes               148654\n",
              "Agency                   0\n",
              "Status              148654\n",
              "dtype: int64"
            ]
          },
          "execution_count": 8,
          "metadata": {},
          "output_type": "execute_result"
        }
      ],
      "source": [
        "# Getting Null Values\n",
        "df.isnull().sum()"
      ]
    },
    {
      "cell_type": "markdown",
      "metadata": {
        "id": "licZPANWDYrg"
      },
      "source": [
        "So we found that:\n",
        "  - **Number of Rows:** 148654\n",
        "  - **Number of Columns:** 13\n",
        "  - **The data types of each column:**\n",
        "\n",
        "    We have **Three Categorical Columns**, and **Ten Numerical Columns**\n",
        "\n",
        "    We have *Eight* **Float** columns, *Two* **Integer** columns, and *Three* **String** columns.\n",
        "    \n",
        "    <table>\n",
        "      <thead>\n",
        "        <tr><td>#</td><td>Column</td><td>Type</td></tr>\n",
        "      </thead>\n",
        "      <tbody>\n",
        "        <tr><td>1</td><td>Id</td><td>int64</td></tr>\n",
        "        <tr><td>2</td><td>EmployeeName</td><td>string</td></tr>\n",
        "        <tr><td>3</td><td>JobTitle</td><td>string</td></tr>\n",
        "        <tr><td>4</td><td>BasePay</td><td>float64</td></tr>\n",
        "        <tr><td>5</td><td>OvertimePay</td><td>float64</td></tr>\n",
        "        <tr><td>6</td><td>OtherPay</td><td>float64</td></tr>\n",
        "        <tr><td>7</td><td>Benefits</td><td>float64</td></tr>\n",
        "        <tr><td>8</td><td>TotalPay</td><td>float64</td></tr>\n",
        "        <tr><td>9</td><td>TotalPayBenefits</td><td>float64</td></tr>\n",
        "        <tr><td>10</td><td>Year</td><td>int64</td></tr>\n",
        "        <tr><td>11</td><td>Notes</td><td>float64</td></tr>\n",
        "        <tr><td>12</td><td>Agency</td><td>string</td></tr>\n",
        "        <tr><td>13</td><td>Status</td><td>float64</td></tr>\n",
        "      </tbody>\n",
        "    </table>\n",
        "\n",
        "\n",
        "   - **Missing values in each column:**\n",
        "    - **Two** totally empty columns (*Notes & Status*).\n",
        "    - **Seven** totally filled columns (*Id, EmployeeName, JobTitle, TotalPay, TotalPayBenefits, Year & Agency*).\n",
        "    - **Two** columns missing only four entries (*OvertimePay, OtherPay*).\n",
        "    - **One** Column with 0.4% (609 entries) of its values are null (*BasePay*).\n",
        "    - **One** Column with 24.3% (36163 entries) of its values are null (*Benefits*)."
      ]
    },
    {
      "cell_type": "markdown",
      "metadata": {
        "id": "OkGpmuvePpUV"
      },
      "source": [
        "---\n",
        "\n",
        "\n",
        "## **2. Descriptive Statistics:**"
      ]
    },
    {
      "cell_type": "markdown",
      "metadata": {
        "id": "fBF7etuVQX6b"
      },
      "source": [
        "Okay now let's have some insights..."
      ]
    },
    {
      "cell_type": "code",
      "execution_count": 9,
      "metadata": {
        "colab": {
          "base_uri": "https://localhost:8080/",
          "height": 0
        },
        "id": "HziDClO_NiRC",
        "outputId": "cd72222f-ef4c-4f06-c54b-c7a04ef2a60e"
      },
      "outputs": [
        {
          "data": {
            "text/html": [
              "<div>\n",
              "<style scoped>\n",
              "    .dataframe tbody tr th:only-of-type {\n",
              "        vertical-align: middle;\n",
              "    }\n",
              "\n",
              "    .dataframe tbody tr th {\n",
              "        vertical-align: top;\n",
              "    }\n",
              "\n",
              "    .dataframe thead th {\n",
              "        text-align: right;\n",
              "    }\n",
              "</style>\n",
              "<table border=\"1\" class=\"dataframe\">\n",
              "  <thead>\n",
              "    <tr style=\"text-align: right;\">\n",
              "      <th></th>\n",
              "      <th>Id</th>\n",
              "      <th>EmployeeName</th>\n",
              "      <th>JobTitle</th>\n",
              "      <th>BasePay</th>\n",
              "      <th>OvertimePay</th>\n",
              "      <th>OtherPay</th>\n",
              "      <th>Benefits</th>\n",
              "      <th>TotalPay</th>\n",
              "      <th>TotalPayBenefits</th>\n",
              "      <th>Year</th>\n",
              "      <th>Notes</th>\n",
              "      <th>Agency</th>\n",
              "      <th>Status</th>\n",
              "    </tr>\n",
              "  </thead>\n",
              "  <tbody>\n",
              "    <tr>\n",
              "      <th>count</th>\n",
              "      <td>148654.000000</td>\n",
              "      <td>148654</td>\n",
              "      <td>148654</td>\n",
              "      <td>148045.000000</td>\n",
              "      <td>148650.000000</td>\n",
              "      <td>148650.000000</td>\n",
              "      <td>112491.000000</td>\n",
              "      <td>148654.000000</td>\n",
              "      <td>148654.000000</td>\n",
              "      <td>148654.000000</td>\n",
              "      <td>0.0</td>\n",
              "      <td>148654</td>\n",
              "      <td>0.0</td>\n",
              "    </tr>\n",
              "    <tr>\n",
              "      <th>unique</th>\n",
              "      <td>NaN</td>\n",
              "      <td>110811</td>\n",
              "      <td>2159</td>\n",
              "      <td>NaN</td>\n",
              "      <td>NaN</td>\n",
              "      <td>NaN</td>\n",
              "      <td>NaN</td>\n",
              "      <td>NaN</td>\n",
              "      <td>NaN</td>\n",
              "      <td>NaN</td>\n",
              "      <td>NaN</td>\n",
              "      <td>1</td>\n",
              "      <td>NaN</td>\n",
              "    </tr>\n",
              "    <tr>\n",
              "      <th>top</th>\n",
              "      <td>NaN</td>\n",
              "      <td>Kevin Lee</td>\n",
              "      <td>Transit Operator</td>\n",
              "      <td>NaN</td>\n",
              "      <td>NaN</td>\n",
              "      <td>NaN</td>\n",
              "      <td>NaN</td>\n",
              "      <td>NaN</td>\n",
              "      <td>NaN</td>\n",
              "      <td>NaN</td>\n",
              "      <td>NaN</td>\n",
              "      <td>San Francisco</td>\n",
              "      <td>NaN</td>\n",
              "    </tr>\n",
              "    <tr>\n",
              "      <th>freq</th>\n",
              "      <td>NaN</td>\n",
              "      <td>13</td>\n",
              "      <td>7036</td>\n",
              "      <td>NaN</td>\n",
              "      <td>NaN</td>\n",
              "      <td>NaN</td>\n",
              "      <td>NaN</td>\n",
              "      <td>NaN</td>\n",
              "      <td>NaN</td>\n",
              "      <td>NaN</td>\n",
              "      <td>NaN</td>\n",
              "      <td>148654</td>\n",
              "      <td>NaN</td>\n",
              "    </tr>\n",
              "    <tr>\n",
              "      <th>mean</th>\n",
              "      <td>74327.500000</td>\n",
              "      <td>NaN</td>\n",
              "      <td>NaN</td>\n",
              "      <td>66325.448840</td>\n",
              "      <td>5066.059886</td>\n",
              "      <td>3648.767297</td>\n",
              "      <td>25007.893151</td>\n",
              "      <td>74768.321972</td>\n",
              "      <td>93692.554811</td>\n",
              "      <td>2012.522643</td>\n",
              "      <td>NaN</td>\n",
              "      <td>NaN</td>\n",
              "      <td>NaN</td>\n",
              "    </tr>\n",
              "    <tr>\n",
              "      <th>std</th>\n",
              "      <td>42912.857795</td>\n",
              "      <td>NaN</td>\n",
              "      <td>NaN</td>\n",
              "      <td>42764.635495</td>\n",
              "      <td>11454.380559</td>\n",
              "      <td>8056.601866</td>\n",
              "      <td>15402.215858</td>\n",
              "      <td>50517.005274</td>\n",
              "      <td>62793.533483</td>\n",
              "      <td>1.117538</td>\n",
              "      <td>NaN</td>\n",
              "      <td>NaN</td>\n",
              "      <td>NaN</td>\n",
              "    </tr>\n",
              "    <tr>\n",
              "      <th>min</th>\n",
              "      <td>1.000000</td>\n",
              "      <td>NaN</td>\n",
              "      <td>NaN</td>\n",
              "      <td>-166.010000</td>\n",
              "      <td>-0.010000</td>\n",
              "      <td>-7058.590000</td>\n",
              "      <td>-33.890000</td>\n",
              "      <td>-618.130000</td>\n",
              "      <td>-618.130000</td>\n",
              "      <td>2011.000000</td>\n",
              "      <td>NaN</td>\n",
              "      <td>NaN</td>\n",
              "      <td>NaN</td>\n",
              "    </tr>\n",
              "    <tr>\n",
              "      <th>25%</th>\n",
              "      <td>37164.250000</td>\n",
              "      <td>NaN</td>\n",
              "      <td>NaN</td>\n",
              "      <td>33588.200000</td>\n",
              "      <td>0.000000</td>\n",
              "      <td>0.000000</td>\n",
              "      <td>11535.395000</td>\n",
              "      <td>36168.995000</td>\n",
              "      <td>44065.650000</td>\n",
              "      <td>2012.000000</td>\n",
              "      <td>NaN</td>\n",
              "      <td>NaN</td>\n",
              "      <td>NaN</td>\n",
              "    </tr>\n",
              "    <tr>\n",
              "      <th>50%</th>\n",
              "      <td>74327.500000</td>\n",
              "      <td>NaN</td>\n",
              "      <td>NaN</td>\n",
              "      <td>65007.450000</td>\n",
              "      <td>0.000000</td>\n",
              "      <td>811.270000</td>\n",
              "      <td>28628.620000</td>\n",
              "      <td>71426.610000</td>\n",
              "      <td>92404.090000</td>\n",
              "      <td>2013.000000</td>\n",
              "      <td>NaN</td>\n",
              "      <td>NaN</td>\n",
              "      <td>NaN</td>\n",
              "    </tr>\n",
              "    <tr>\n",
              "      <th>75%</th>\n",
              "      <td>111490.750000</td>\n",
              "      <td>NaN</td>\n",
              "      <td>NaN</td>\n",
              "      <td>94691.050000</td>\n",
              "      <td>4658.175000</td>\n",
              "      <td>4236.065000</td>\n",
              "      <td>35566.855000</td>\n",
              "      <td>105839.135000</td>\n",
              "      <td>132876.450000</td>\n",
              "      <td>2014.000000</td>\n",
              "      <td>NaN</td>\n",
              "      <td>NaN</td>\n",
              "      <td>NaN</td>\n",
              "    </tr>\n",
              "    <tr>\n",
              "      <th>max</th>\n",
              "      <td>148654.000000</td>\n",
              "      <td>NaN</td>\n",
              "      <td>NaN</td>\n",
              "      <td>319275.010000</td>\n",
              "      <td>245131.880000</td>\n",
              "      <td>400184.250000</td>\n",
              "      <td>96570.660000</td>\n",
              "      <td>567595.430000</td>\n",
              "      <td>567595.430000</td>\n",
              "      <td>2014.000000</td>\n",
              "      <td>NaN</td>\n",
              "      <td>NaN</td>\n",
              "      <td>NaN</td>\n",
              "    </tr>\n",
              "  </tbody>\n",
              "</table>\n",
              "</div>"
            ],
            "text/plain": [
              "                   Id EmployeeName          JobTitle        BasePay  \\\n",
              "count   148654.000000       148654            148654  148045.000000   \n",
              "unique            NaN       110811              2159            NaN   \n",
              "top               NaN    Kevin Lee  Transit Operator            NaN   \n",
              "freq              NaN           13              7036            NaN   \n",
              "mean     74327.500000          NaN               NaN   66325.448840   \n",
              "std      42912.857795          NaN               NaN   42764.635495   \n",
              "min          1.000000          NaN               NaN    -166.010000   \n",
              "25%      37164.250000          NaN               NaN   33588.200000   \n",
              "50%      74327.500000          NaN               NaN   65007.450000   \n",
              "75%     111490.750000          NaN               NaN   94691.050000   \n",
              "max     148654.000000          NaN               NaN  319275.010000   \n",
              "\n",
              "          OvertimePay       OtherPay       Benefits       TotalPay  \\\n",
              "count   148650.000000  148650.000000  112491.000000  148654.000000   \n",
              "unique            NaN            NaN            NaN            NaN   \n",
              "top               NaN            NaN            NaN            NaN   \n",
              "freq              NaN            NaN            NaN            NaN   \n",
              "mean      5066.059886    3648.767297   25007.893151   74768.321972   \n",
              "std      11454.380559    8056.601866   15402.215858   50517.005274   \n",
              "min         -0.010000   -7058.590000     -33.890000    -618.130000   \n",
              "25%          0.000000       0.000000   11535.395000   36168.995000   \n",
              "50%          0.000000     811.270000   28628.620000   71426.610000   \n",
              "75%       4658.175000    4236.065000   35566.855000  105839.135000   \n",
              "max     245131.880000  400184.250000   96570.660000  567595.430000   \n",
              "\n",
              "        TotalPayBenefits           Year  Notes         Agency  Status  \n",
              "count      148654.000000  148654.000000    0.0         148654     0.0  \n",
              "unique               NaN            NaN    NaN              1     NaN  \n",
              "top                  NaN            NaN    NaN  San Francisco     NaN  \n",
              "freq                 NaN            NaN    NaN         148654     NaN  \n",
              "mean        93692.554811    2012.522643    NaN            NaN     NaN  \n",
              "std         62793.533483       1.117538    NaN            NaN     NaN  \n",
              "min          -618.130000    2011.000000    NaN            NaN     NaN  \n",
              "25%         44065.650000    2012.000000    NaN            NaN     NaN  \n",
              "50%         92404.090000    2013.000000    NaN            NaN     NaN  \n",
              "75%        132876.450000    2014.000000    NaN            NaN     NaN  \n",
              "max        567595.430000    2014.000000    NaN            NaN     NaN  "
            ]
          },
          "execution_count": 9,
          "metadata": {},
          "output_type": "execute_result"
        }
      ],
      "source": [
        "# Getting Basic Insights\n",
        "df.describe(include=\"all\")"
      ]
    },
    {
      "cell_type": "code",
      "execution_count": 10,
      "metadata": {
        "colab": {
          "base_uri": "https://localhost:8080/"
        },
        "id": "9vI9LU-zmd-D",
        "outputId": "34347302-4817-411c-b8f1-43e15bd3a010"
      },
      "outputs": [
        {
          "data": {
            "text/plain": [
              "Id                  148653.00\n",
              "BasePay             319441.02\n",
              "OvertimePay         245131.89\n",
              "OtherPay            407242.84\n",
              "Benefits             96604.55\n",
              "TotalPay            568213.56\n",
              "TotalPayBenefits    568213.56\n",
              "Year                     3.00\n",
              "Notes                     NaN\n",
              "Status                    NaN\n",
              "dtype: float64"
            ]
          },
          "execution_count": 10,
          "metadata": {},
          "output_type": "execute_result"
        }
      ],
      "source": [
        "# Getting Range\n",
        "df.max(numeric_only=True) - df.min(numeric_only=True)"
      ]
    },
    {
      "cell_type": "code",
      "execution_count": 11,
      "metadata": {
        "colab": {
          "base_uri": "https://localhost:8080/"
        },
        "id": "xJW6B4dDR4kP",
        "outputId": "099a5920-6613-4a07-cf6e-0e3cf9b89de3"
      },
      "outputs": [
        {
          "data": {
            "text/plain": [
              "Id                  74327.50\n",
              "BasePay             65007.45\n",
              "OvertimePay             0.00\n",
              "OtherPay              811.27\n",
              "Benefits            28628.62\n",
              "TotalPay            71426.61\n",
              "TotalPayBenefits    92404.09\n",
              "Year                 2013.00\n",
              "Notes                    NaN\n",
              "Status                   NaN\n",
              "dtype: float64"
            ]
          },
          "execution_count": 11,
          "metadata": {},
          "output_type": "execute_result"
        }
      ],
      "source": [
        "# Getting Median\n",
        "df.median(numeric_only=True)"
      ]
    },
    {
      "cell_type": "code",
      "execution_count": 12,
      "metadata": {
        "colab": {
          "base_uri": "https://localhost:8080/"
        },
        "id": "Qig-YDXyDM7o",
        "outputId": "b6e936d6-d7c5-43b3-88db-05ec52cf5f92"
      },
      "outputs": [
        {
          "data": {
            "text/plain": [
              "Id                                 1\n",
              "EmployeeName               Kevin Lee\n",
              "JobTitle            Transit Operator\n",
              "BasePay                          0.0\n",
              "OvertimePay                      0.0\n",
              "OtherPay                         0.0\n",
              "Benefits                         0.0\n",
              "TotalPay                         0.0\n",
              "TotalPayBenefits             7959.18\n",
              "Year                          2014.0\n",
              "Notes                            NaN\n",
              "Agency                 San Francisco\n",
              "Status                           NaN\n",
              "Name: 0, dtype: object"
            ]
          },
          "execution_count": 12,
          "metadata": {},
          "output_type": "execute_result"
        }
      ],
      "source": [
        "# Getting Mode \"1st\"\n",
        "df.mode().iloc[0]"
      ]
    },
    {
      "cell_type": "code",
      "execution_count": 13,
      "metadata": {
        "colab": {
          "base_uri": "https://localhost:8080/"
        },
        "id": "w-3NrQsZWNWR",
        "outputId": "b0d0ec07-12c2-49d7-902c-8b0df4923f71"
      },
      "outputs": [
        {
          "data": {
            "text/plain": [
              "Id                  42912.857795\n",
              "BasePay             42764.635495\n",
              "OvertimePay         11454.380559\n",
              "OtherPay             8056.601866\n",
              "Benefits            15402.215858\n",
              "TotalPay            50517.005274\n",
              "TotalPayBenefits    62793.533483\n",
              "Year                    1.117538\n",
              "Notes                        NaN\n",
              "Status                       NaN\n",
              "dtype: float64"
            ]
          },
          "execution_count": 13,
          "metadata": {},
          "output_type": "execute_result"
        }
      ],
      "source": [
        "# Getting Standard Deviation\n",
        "df.std(numeric_only=True)"
      ]
    },
    {
      "cell_type": "markdown",
      "metadata": {
        "id": "EjctgB3ShUJw"
      },
      "source": [
        "So here is a summry of the Basic Statstics we found:\n",
        "\n",
        "<table>\n",
        "  <thead>\n",
        "    <tr>\n",
        "      <td>#</td>\n",
        "      <td>Column</td>\n",
        "      <td>Mean</td>\n",
        "      <td>Median</td>\n",
        "      <td>Mode [1st]</td>\n",
        "      <td>Minimum</td>\n",
        "      <td>Maximum</td>\n",
        "      <td>Range</td>\n",
        "      <td>Standard Deviation</td>\n",
        "    </tr>\n",
        "  </thead>\n",
        "  <tbody>\n",
        "    <tr>\n",
        "      <td>1</td>\n",
        "      <td>Id</td>\n",
        "      <td>74327.50</td>\n",
        "      <td>74327.50</td>\n",
        "      <td>1</td>\n",
        "      <td>1.00</td>\n",
        "      <td>148654.00</td>\n",
        "      <td>148653.00</td>\n",
        "      <td>42912.86</td>\n",
        "    </tr>\n",
        "    <tr>\n",
        "      <td>2</td>\n",
        "      <td>EmployeeName</td>\n",
        "      <td>---</td>\n",
        "      <td>---</td>\n",
        "      <td>Kevin Lee</td>\n",
        "      <td>---</td>\n",
        "      <td>---</td>\n",
        "      <td>---</td>\n",
        "      <td>---</td>\n",
        "    </tr>\n",
        "    <tr>\n",
        "      <td>3</td>\n",
        "      <td>JobTitle</td>\n",
        "      <td>---</td>\n",
        "      <td>---</td>\n",
        "      <td>Transit Operator</td>\n",
        "      <td>---</td>\n",
        "      <td>---</td>\n",
        "      <td>---</td>\n",
        "      <td>---</td>\n",
        "    </tr>\n",
        "    <tr>\n",
        "      <td>4</td>\n",
        "      <td>BasePay</td>\n",
        "      <td>66325.45</td>\n",
        "      <td>65007.45</td>\n",
        "      <td>0.0</td>\n",
        "      <td>-166.01</td>\n",
        "      <td>319275.01</td>\n",
        "      <td>319441.02</td>\n",
        "      <td>42764.63</td>\n",
        "    </tr>\n",
        "    <tr>\n",
        "      <td>5</td>\n",
        "      <td>OvertimePay</td>\n",
        "      <td>5066.06</td>\n",
        "      <td>0.00</td>\n",
        "      <td>0.0</td>\n",
        "      <td>-0.01</td>\n",
        "      <td>245131.88</td>\n",
        "      <td>245131.89</td>\n",
        "      <td>11454.38</td>\n",
        "    </tr>\n",
        "    <tr>\n",
        "      <td>6</td>\n",
        "      <td>OtherPay</td>\n",
        "      <td>3648.77</td>\n",
        "      <td>811.27</td>\n",
        "      <td>0.0</td>\n",
        "      <td>-7058.59</td>\n",
        "      <td>400184.25</td>\n",
        "      <td>407242.84</td>\n",
        "      <td>8056.60</td>\n",
        "    </tr>\n",
        "    <tr>\n",
        "      <td>7</td>\n",
        "      <td>Benefits</td>\n",
        "      <td>25007.89</td>\n",
        "      <td>28628.62</td>\n",
        "      <td>0.0</td>\n",
        "      <td>-33.89</td>\n",
        "      <td>96570.66</td>\n",
        "      <td>96604.55</td>\n",
        "      <td>15402.22</td>\n",
        "    </tr>\n",
        "    <tr>\n",
        "      <td>8</td>\n",
        "      <td>TotalPay</td>\n",
        "      <td>74768.32</td>\n",
        "      <td>71426.61</td>\n",
        "      <td>0.0</td>\n",
        "      <td>-618.13</td>\n",
        "      <td>567595.43</td>\n",
        "      <td>568213.56</td>\n",
        "      <td>50517.00</td>\n",
        "    </tr>\n",
        "    <tr>\n",
        "      <td>9</td>\n",
        "      <td>TotalPayBenefits</td>\n",
        "      <td>93692.55</td>\n",
        "      <td>92404.09</td>\n",
        "      <td>7959.18</td>\n",
        "      <td>-618.13</td>\n",
        "      <td>567595.43</td>\n",
        "      <td>568213.56</td>\n",
        "      <td>62793.53</td>\n",
        "    </tr>\n",
        "    <tr>\n",
        "      <td>10</td>\n",
        "      <td>Year</td>\n",
        "      <td>2012.52</td>\n",
        "      <td>2013.00</td>\n",
        "      <td>2014.00</td>\n",
        "      <td>2011.00</td>\n",
        "      <td>2014.00</td>\n",
        "      <td>3.00</td>\n",
        "      <td>1.12</td>\n",
        "    </tr>\n",
        "    <tr>\n",
        "      <td>11</td>\n",
        "      <td>Notes</td>\n",
        "      <td>---</td>\n",
        "      <td>---</td>\n",
        "      <td>---</td>\n",
        "      <td>---</td>\n",
        "      <td>---</td>\n",
        "      <td>---</td>\n",
        "      <td>---</td>\n",
        "    </tr>\n",
        "    <tr>\n",
        "      <td>12</td>\n",
        "      <td>Agency</td>\n",
        "      <td>---</td>\n",
        "      <td>---</td>\n",
        "      <td>San Francisco</td>\n",
        "      <td>---</td>\n",
        "      <td>---</td>\n",
        "      <td>---</td>\n",
        "      <td>---</td>\n",
        "    </tr>\n",
        "    <tr>\n",
        "      <td>13</td>\n",
        "      <td>Status</td>\n",
        "      <td>---</td>\n",
        "      <td>---</td>\n",
        "      <td>---</td>\n",
        "      <td>---</td>\n",
        "      <td>---</td>\n",
        "      <td>---</td>\n",
        "      <td>---</td>\n",
        "    </tr>\n",
        "  </tbody>\n",
        "</table>\n",
        "\n",
        "We will see how these basic statistics change after making our cleaning."
      ]
    },
    {
      "cell_type": "markdown",
      "metadata": {
        "id": "TXvz6GelxWrU"
      },
      "source": [
        "---\n",
        "\n",
        "\n",
        "## **3. Data Cleaning:**"
      ]
    },
    {
      "cell_type": "markdown",
      "metadata": {
        "id": "JemX5jqJQIAM"
      },
      "source": [
        "Okay now let's Clean our Data. 🧹"
      ]
    },
    {
      "cell_type": "markdown",
      "metadata": {
        "id": "k0DGh8o1xufY"
      },
      "source": [
        "First of all, we have two empty columns (Notes & Status), we could investigate later why that happened, but for now, let's just drop them."
      ]
    },
    {
      "cell_type": "code",
      "execution_count": 14,
      "metadata": {
        "id": "UOb9UPHjyKqt"
      },
      "outputs": [],
      "source": [
        "df_cleaned = df.drop(columns=['Notes', 'Status'])"
      ]
    },
    {
      "cell_type": "markdown",
      "metadata": {
        "id": "aRAFyt9rzHtq"
      },
      "source": [
        "Also All Agency Column's Values contains The Same Value **\"San Francisco\"** so It won't be of great use for our analysis and may  slows down the preformance, so let's drop it and keep that info as a side note. that every body is from a single Agency named **\"San Francisco\"**"
      ]
    },
    {
      "cell_type": "code",
      "execution_count": 15,
      "metadata": {
        "colab": {
          "base_uri": "https://localhost:8080/"
        },
        "id": "B4gkSR3kzJco",
        "outputId": "f1f219dc-be75-4fb5-cbcd-556f2e24c5e8"
      },
      "outputs": [
        {
          "data": {
            "text/plain": [
              "array(['San Francisco'], dtype=object)"
            ]
          },
          "execution_count": 15,
          "metadata": {},
          "output_type": "execute_result"
        }
      ],
      "source": [
        "df.Agency.unique()"
      ]
    },
    {
      "cell_type": "code",
      "execution_count": 16,
      "metadata": {
        "id": "BYDXUWPs0RPE"
      },
      "outputs": [],
      "source": [
        "df_cleaned = df_cleaned.drop(columns=[\"Agency\"])"
      ]
    },
    {
      "cell_type": "markdown",
      "metadata": {
        "id": "vh1uxf0w2KZM"
      },
      "source": [
        "From our basic statistics we have seen that there are negative values in columns like (BasePay, OvertimePay, OtherPay, Benefits, TotalPay) which may be acceptable in some scenarios but The TotalPayBenefits Column can not be less than or equal to Zero, Unless the organization has some kind of Slavery regime, I can't think of an Employee working there and have to pay to the Organization for his work, So maybe that is entry mistake or something but I will be more comfortable if I dropped these rows if they are not of a significant count."
      ]
    },
    {
      "cell_type": "code",
      "execution_count": 17,
      "metadata": {
        "colab": {
          "base_uri": "https://localhost:8080/"
        },
        "id": "TVXS61rW9D4G",
        "outputId": "240bb110-8c85-4ba4-a42d-260e281771df"
      },
      "outputs": [
        {
          "data": {
            "text/plain": [
              "34"
            ]
          },
          "execution_count": 17,
          "metadata": {},
          "output_type": "execute_result"
        }
      ],
      "source": [
        "len(df_cleaned[df_cleaned.TotalPayBenefits <= 0])"
      ]
    },
    {
      "cell_type": "markdown",
      "metadata": {
        "id": "2bMQMq2v9QNE"
      },
      "source": [
        "Okay they just 34 rows we can drop them for now, and we can then later investigate who are those poor Employees."
      ]
    },
    {
      "cell_type": "code",
      "execution_count": 18,
      "metadata": {
        "colab": {
          "base_uri": "https://localhost:8080/"
        },
        "id": "flVcfnl993eo",
        "outputId": "2526875a-0b83-4941-a8c2-b63e0c9b837a"
      },
      "outputs": [
        {
          "data": {
            "text/plain": [
              "148654"
            ]
          },
          "execution_count": 18,
          "metadata": {},
          "output_type": "execute_result"
        }
      ],
      "source": [
        "len(df_cleaned)"
      ]
    },
    {
      "cell_type": "code",
      "execution_count": 19,
      "metadata": {
        "id": "GAIHygg2-V62"
      },
      "outputs": [],
      "source": [
        "df_cleaned = df_cleaned[df_cleaned.TotalPayBenefits > 0]"
      ]
    },
    {
      "cell_type": "code",
      "execution_count": 20,
      "metadata": {
        "colab": {
          "base_uri": "https://localhost:8080/"
        },
        "id": "H-WROHPx-dnq",
        "outputId": "a211e19a-7c02-43ed-805e-c0c500e83df9"
      },
      "outputs": [
        {
          "data": {
            "text/plain": [
              "148620"
            ]
          },
          "execution_count": 20,
          "metadata": {},
          "output_type": "execute_result"
        }
      ],
      "source": [
        "len(df_cleaned)"
      ]
    },
    {
      "cell_type": "markdown",
      "metadata": {
        "id": "dJ1T_DXX_vm2"
      },
      "source": [
        "Okay let's check our null status now."
      ]
    },
    {
      "cell_type": "code",
      "execution_count": 21,
      "metadata": {
        "colab": {
          "base_uri": "https://localhost:8080/"
        },
        "id": "H3VgZHwC-kmr",
        "outputId": "36f95211-76a9-4383-fc10-6044e583b53b"
      },
      "outputs": [
        {
          "data": {
            "text/plain": [
              "Id                      0\n",
              "EmployeeName            0\n",
              "JobTitle                0\n",
              "BasePay               602\n",
              "OvertimePay             0\n",
              "OtherPay                0\n",
              "Benefits            36156\n",
              "TotalPay                0\n",
              "TotalPayBenefits        0\n",
              "Year                    0\n",
              "dtype: int64"
            ]
          },
          "execution_count": 21,
          "metadata": {},
          "output_type": "execute_result"
        }
      ],
      "source": [
        "df_cleaned.isnull().sum()"
      ]
    },
    {
      "cell_type": "code",
      "execution_count": 22,
      "metadata": {
        "colab": {
          "base_uri": "https://localhost:8080/",
          "height": 264
        },
        "id": "f8ppLlYcNwW7",
        "outputId": "d1e1533e-b089-4976-c680-943ca8699dbe"
      },
      "outputs": [
        {
          "data": {
            "text/html": [
              "<div>\n",
              "<style scoped>\n",
              "    .dataframe tbody tr th:only-of-type {\n",
              "        vertical-align: middle;\n",
              "    }\n",
              "\n",
              "    .dataframe tbody tr th {\n",
              "        vertical-align: top;\n",
              "    }\n",
              "\n",
              "    .dataframe thead th {\n",
              "        text-align: right;\n",
              "    }\n",
              "</style>\n",
              "<table border=\"1\" class=\"dataframe\">\n",
              "  <thead>\n",
              "    <tr style=\"text-align: right;\">\n",
              "      <th></th>\n",
              "      <th>Id</th>\n",
              "      <th>EmployeeName</th>\n",
              "      <th>JobTitle</th>\n",
              "      <th>BasePay</th>\n",
              "      <th>OvertimePay</th>\n",
              "      <th>OtherPay</th>\n",
              "      <th>Benefits</th>\n",
              "      <th>TotalPay</th>\n",
              "      <th>TotalPayBenefits</th>\n",
              "      <th>Year</th>\n",
              "      <th>Notes</th>\n",
              "      <th>Agency</th>\n",
              "      <th>Status</th>\n",
              "    </tr>\n",
              "  </thead>\n",
              "  <tbody>\n",
              "    <tr>\n",
              "      <th>148646</th>\n",
              "      <td>148647</td>\n",
              "      <td>Not provided</td>\n",
              "      <td>Not provided</td>\n",
              "      <td>NaN</td>\n",
              "      <td>NaN</td>\n",
              "      <td>NaN</td>\n",
              "      <td>NaN</td>\n",
              "      <td>0.0</td>\n",
              "      <td>0.0</td>\n",
              "      <td>2014</td>\n",
              "      <td>NaN</td>\n",
              "      <td>San Francisco</td>\n",
              "      <td>NaN</td>\n",
              "    </tr>\n",
              "    <tr>\n",
              "      <th>148650</th>\n",
              "      <td>148651</td>\n",
              "      <td>Not provided</td>\n",
              "      <td>Not provided</td>\n",
              "      <td>NaN</td>\n",
              "      <td>NaN</td>\n",
              "      <td>NaN</td>\n",
              "      <td>NaN</td>\n",
              "      <td>0.0</td>\n",
              "      <td>0.0</td>\n",
              "      <td>2014</td>\n",
              "      <td>NaN</td>\n",
              "      <td>San Francisco</td>\n",
              "      <td>NaN</td>\n",
              "    </tr>\n",
              "    <tr>\n",
              "      <th>148651</th>\n",
              "      <td>148652</td>\n",
              "      <td>Not provided</td>\n",
              "      <td>Not provided</td>\n",
              "      <td>NaN</td>\n",
              "      <td>NaN</td>\n",
              "      <td>NaN</td>\n",
              "      <td>NaN</td>\n",
              "      <td>0.0</td>\n",
              "      <td>0.0</td>\n",
              "      <td>2014</td>\n",
              "      <td>NaN</td>\n",
              "      <td>San Francisco</td>\n",
              "      <td>NaN</td>\n",
              "    </tr>\n",
              "    <tr>\n",
              "      <th>148652</th>\n",
              "      <td>148653</td>\n",
              "      <td>Not provided</td>\n",
              "      <td>Not provided</td>\n",
              "      <td>NaN</td>\n",
              "      <td>NaN</td>\n",
              "      <td>NaN</td>\n",
              "      <td>NaN</td>\n",
              "      <td>0.0</td>\n",
              "      <td>0.0</td>\n",
              "      <td>2014</td>\n",
              "      <td>NaN</td>\n",
              "      <td>San Francisco</td>\n",
              "      <td>NaN</td>\n",
              "    </tr>\n",
              "  </tbody>\n",
              "</table>\n",
              "</div>"
            ],
            "text/plain": [
              "            Id  EmployeeName      JobTitle  BasePay  OvertimePay  OtherPay  \\\n",
              "148646  148647  Not provided  Not provided      NaN          NaN       NaN   \n",
              "148650  148651  Not provided  Not provided      NaN          NaN       NaN   \n",
              "148651  148652  Not provided  Not provided      NaN          NaN       NaN   \n",
              "148652  148653  Not provided  Not provided      NaN          NaN       NaN   \n",
              "\n",
              "        Benefits  TotalPay  TotalPayBenefits  Year  Notes         Agency  \\\n",
              "148646       NaN       0.0               0.0  2014    NaN  San Francisco   \n",
              "148650       NaN       0.0               0.0  2014    NaN  San Francisco   \n",
              "148651       NaN       0.0               0.0  2014    NaN  San Francisco   \n",
              "148652       NaN       0.0               0.0  2014    NaN  San Francisco   \n",
              "\n",
              "        Status  \n",
              "148646     NaN  \n",
              "148650     NaN  \n",
              "148651     NaN  \n",
              "148652     NaN  "
            ]
          },
          "execution_count": 22,
          "metadata": {},
          "output_type": "execute_result"
        }
      ],
      "source": [
        "df[df.OvertimePay.isnull() | df.OtherPay.isnull()]"
      ]
    },
    {
      "cell_type": "markdown",
      "metadata": {
        "id": "yh5YzJ9Z_0R6"
      },
      "source": [
        "The 4 null values in (*OvertimePay & OtherPay*) Columns have been gone, and from what I see in those 4 rows I think that was a good decision, and we are left with null values at (*BasePay & Benefits*) Columns."
      ]
    },
    {
      "cell_type": "markdown",
      "metadata": {
        "id": "2t150BRTI9jM"
      },
      "source": [
        "Okay, So from our Data we can see that the **TotalPay** is the Sum of [*Basepay, OvertimePay, OtherPay*], while the **TotalPayBenefits** adds the *Benefits* to the *TotalPay*, so let's check if that calculation is correct in each row. to decide if we gonna fill the null values with Zeros or a missing value."
      ]
    },
    {
      "cell_type": "code",
      "execution_count": 23,
      "metadata": {
        "id": "skO4WOTbrn4r"
      },
      "outputs": [],
      "source": [
        "# Checking TotalPay\n",
        "df_cleaned['TotalPay_chk'] = df_cleaned.loc[:, (\n",
        "    'BasePay', 'OvertimePay', 'OtherPay'\n",
        ")].sum(axis=1)"
      ]
    },
    {
      "cell_type": "code",
      "execution_count": 24,
      "metadata": {
        "colab": {
          "base_uri": "https://localhost:8080/"
        },
        "id": "AdLhJZEHUDvY",
        "outputId": "53719613-4b7c-437c-e0a8-54c1c0c9b3db"
      },
      "outputs": [
        {
          "data": {
            "text/plain": [
              "TotalPay        0\n",
              "TotalPay_chk    0\n",
              "dtype: int64"
            ]
          },
          "execution_count": 24,
          "metadata": {},
          "output_type": "execute_result"
        }
      ],
      "source": [
        "df_cleaned[\n",
        "    df_cleaned.TotalPay.round(2) != df_cleaned.TotalPay_chk.round(2)\n",
        "][['TotalPay', 'TotalPay_chk']].count()"
      ]
    },
    {
      "cell_type": "code",
      "execution_count": 25,
      "metadata": {
        "id": "61PKIwess7O2"
      },
      "outputs": [],
      "source": [
        "# Checking TotalPayBenefits\n",
        "df_cleaned['TotalPayBenefits_chk'] = df_cleaned.loc[:, (\n",
        "    'BasePay', 'OvertimePay', 'OtherPay', 'Benefits'\n",
        ")].sum(axis=1)"
      ]
    },
    {
      "cell_type": "code",
      "execution_count": 26,
      "metadata": {
        "colab": {
          "base_uri": "https://localhost:8080/"
        },
        "id": "aVVzyTpdYgdv",
        "outputId": "210fd182-e7ce-48be-8730-d907239711c4"
      },
      "outputs": [
        {
          "data": {
            "text/plain": [
              "TotalPayBenefits        0\n",
              "TotalPayBenefits_chk    0\n",
              "dtype: int64"
            ]
          },
          "execution_count": 26,
          "metadata": {},
          "output_type": "execute_result"
        }
      ],
      "source": [
        "df_cleaned[\n",
        "    df_cleaned.TotalPayBenefits.round(2) != df_cleaned.TotalPayBenefits_chk.round(2)\n",
        "][['TotalPayBenefits', 'TotalPayBenefits_chk']].count()"
      ]
    },
    {
      "cell_type": "markdown",
      "metadata": {
        "id": "cq6mAkCHaD8p"
      },
      "source": [
        "We confirmed that the Values in *TotalPay* and *TotalPayBenefits* are summed correctly with the hypothesis of null values being Zeros, So we can safely fill the null values in (*BasePay & Benefits*) Columns with Zeros."
      ]
    },
    {
      "cell_type": "code",
      "execution_count": 27,
      "metadata": {
        "id": "3AQsaPdYy2M4"
      },
      "outputs": [],
      "source": [
        "df_cleaned = df_cleaned.drop(columns=['TotalPay_chk', 'TotalPayBenefits_chk'])\n",
        "df_cleaned.fillna(0, inplace=True)"
      ]
    },
    {
      "cell_type": "code",
      "execution_count": 28,
      "metadata": {
        "colab": {
          "base_uri": "https://localhost:8080/"
        },
        "id": "jMmZgIWdb2JR",
        "outputId": "ba979361-e7af-4f9c-d876-c7632812e83b"
      },
      "outputs": [
        {
          "data": {
            "text/plain": [
              "Id                  0\n",
              "EmployeeName        0\n",
              "JobTitle            0\n",
              "BasePay             0\n",
              "OvertimePay         0\n",
              "OtherPay            0\n",
              "Benefits            0\n",
              "TotalPay            0\n",
              "TotalPayBenefits    0\n",
              "Year                0\n",
              "dtype: int64"
            ]
          },
          "execution_count": 28,
          "metadata": {},
          "output_type": "execute_result"
        }
      ],
      "source": [
        "df_cleaned.isnull().sum()"
      ]
    },
    {
      "cell_type": "markdown",
      "metadata": {
        "id": "SiCqJqxQK-lw"
      },
      "source": [
        "Let's check if there is any duplicates."
      ]
    },
    {
      "cell_type": "code",
      "execution_count": 29,
      "metadata": {
        "colab": {
          "base_uri": "https://localhost:8080/"
        },
        "id": "x6_6aRfiLCO7",
        "outputId": "36e1b718-736f-4735-d39c-4ff596cc3995"
      },
      "outputs": [
        {
          "data": {
            "text/plain": [
              "Id                  0\n",
              "EmployeeName        0\n",
              "JobTitle            0\n",
              "BasePay             0\n",
              "OvertimePay         0\n",
              "OtherPay            0\n",
              "Benefits            0\n",
              "TotalPay            0\n",
              "TotalPayBenefits    0\n",
              "Year                0\n",
              "dtype: int64"
            ]
          },
          "execution_count": 29,
          "metadata": {},
          "output_type": "execute_result"
        }
      ],
      "source": [
        "cols = list(df_cleaned.columns)  # get all columns names in form of list\n",
        "df_cleaned[df_cleaned.duplicated(subset=cols[1:])].count()  # without Id col"
      ]
    },
    {
      "cell_type": "markdown",
      "metadata": {
        "id": "B1X_VmmcLXM4"
      },
      "source": [
        "Great, there is no Duplicate rows."
      ]
    },
    {
      "cell_type": "markdown",
      "metadata": {
        "id": "g9gPXO-vvHck"
      },
      "source": [
        "---\n",
        "\n",
        "\n",
        "## **4. Basic Data Visualization**"
      ]
    },
    {
      "cell_type": "markdown",
      "metadata": {
        "id": "B2Ve7-AhQQOd"
      },
      "source": [
        "Let's first redo our Basic Statistics state after cleaning the data."
      ]
    },
    {
      "cell_type": "code",
      "execution_count": 30,
      "metadata": {
        "colab": {
          "base_uri": "https://localhost:8080/",
          "height": 0
        },
        "id": "NtDyooH1uhgQ",
        "outputId": "16255dc9-9fbe-4e2f-c934-240c6e0baa7c"
      },
      "outputs": [
        {
          "data": {
            "text/html": [
              "<div>\n",
              "<style scoped>\n",
              "    .dataframe tbody tr th:only-of-type {\n",
              "        vertical-align: middle;\n",
              "    }\n",
              "\n",
              "    .dataframe tbody tr th {\n",
              "        vertical-align: top;\n",
              "    }\n",
              "\n",
              "    .dataframe thead th {\n",
              "        text-align: right;\n",
              "    }\n",
              "</style>\n",
              "<table border=\"1\" class=\"dataframe\">\n",
              "  <thead>\n",
              "    <tr style=\"text-align: right;\">\n",
              "      <th></th>\n",
              "      <th>Id</th>\n",
              "      <th>EmployeeName</th>\n",
              "      <th>JobTitle</th>\n",
              "      <th>BasePay</th>\n",
              "      <th>OvertimePay</th>\n",
              "      <th>OtherPay</th>\n",
              "      <th>Benefits</th>\n",
              "      <th>TotalPay</th>\n",
              "      <th>TotalPayBenefits</th>\n",
              "      <th>Year</th>\n",
              "    </tr>\n",
              "  </thead>\n",
              "  <tbody>\n",
              "    <tr>\n",
              "      <th>count</th>\n",
              "      <td>148620.000000</td>\n",
              "      <td>148620</td>\n",
              "      <td>148620</td>\n",
              "      <td>148620.000000</td>\n",
              "      <td>148620.000000</td>\n",
              "      <td>148620.000000</td>\n",
              "      <td>148620.000000</td>\n",
              "      <td>148620.000000</td>\n",
              "      <td>148620.000000</td>\n",
              "      <td>148620.000000</td>\n",
              "    </tr>\n",
              "    <tr>\n",
              "      <th>unique</th>\n",
              "      <td>NaN</td>\n",
              "      <td>110801</td>\n",
              "      <td>2158</td>\n",
              "      <td>NaN</td>\n",
              "      <td>NaN</td>\n",
              "      <td>NaN</td>\n",
              "      <td>NaN</td>\n",
              "      <td>NaN</td>\n",
              "      <td>NaN</td>\n",
              "      <td>NaN</td>\n",
              "    </tr>\n",
              "    <tr>\n",
              "      <th>top</th>\n",
              "      <td>NaN</td>\n",
              "      <td>Kevin Lee</td>\n",
              "      <td>Transit Operator</td>\n",
              "      <td>NaN</td>\n",
              "      <td>NaN</td>\n",
              "      <td>NaN</td>\n",
              "      <td>NaN</td>\n",
              "      <td>NaN</td>\n",
              "      <td>NaN</td>\n",
              "      <td>NaN</td>\n",
              "    </tr>\n",
              "    <tr>\n",
              "      <th>freq</th>\n",
              "      <td>NaN</td>\n",
              "      <td>13</td>\n",
              "      <td>7036</td>\n",
              "      <td>NaN</td>\n",
              "      <td>NaN</td>\n",
              "      <td>NaN</td>\n",
              "      <td>NaN</td>\n",
              "      <td>NaN</td>\n",
              "      <td>NaN</td>\n",
              "      <td>NaN</td>\n",
              "    </tr>\n",
              "    <tr>\n",
              "      <th>mean</th>\n",
              "      <td>74313.539140</td>\n",
              "      <td>NaN</td>\n",
              "      <td>NaN</td>\n",
              "      <td>66068.840490</td>\n",
              "      <td>5067.082507</td>\n",
              "      <td>3649.507985</td>\n",
              "      <td>18928.562463</td>\n",
              "      <td>74785.430982</td>\n",
              "      <td>93713.993445</td>\n",
              "      <td>2012.522386</td>\n",
              "    </tr>\n",
              "    <tr>\n",
              "      <th>std</th>\n",
              "      <td>42904.989939</td>\n",
              "      <td>NaN</td>\n",
              "      <td>NaN</td>\n",
              "      <td>42879.976478</td>\n",
              "      <td>11455.310413</td>\n",
              "      <td>8057.246124</td>\n",
              "      <td>17164.855593</td>\n",
              "      <td>50510.115978</td>\n",
              "      <td>62784.714471</td>\n",
              "      <td>1.117458</td>\n",
              "    </tr>\n",
              "    <tr>\n",
              "      <th>min</th>\n",
              "      <td>1.000000</td>\n",
              "      <td>NaN</td>\n",
              "      <td>NaN</td>\n",
              "      <td>-166.010000</td>\n",
              "      <td>-0.010000</td>\n",
              "      <td>-7058.590000</td>\n",
              "      <td>-13.800000</td>\n",
              "      <td>0.000000</td>\n",
              "      <td>0.300000</td>\n",
              "      <td>2011.000000</td>\n",
              "    </tr>\n",
              "    <tr>\n",
              "      <th>25%</th>\n",
              "      <td>37158.750000</td>\n",
              "      <td>NaN</td>\n",
              "      <td>NaN</td>\n",
              "      <td>32843.760000</td>\n",
              "      <td>0.000000</td>\n",
              "      <td>0.000000</td>\n",
              "      <td>0.000000</td>\n",
              "      <td>36198.150000</td>\n",
              "      <td>44132.715000</td>\n",
              "      <td>2012.000000</td>\n",
              "    </tr>\n",
              "    <tr>\n",
              "      <th>50%</th>\n",
              "      <td>74313.500000</td>\n",
              "      <td>NaN</td>\n",
              "      <td>NaN</td>\n",
              "      <td>64873.275000</td>\n",
              "      <td>0.000000</td>\n",
              "      <td>812.425000</td>\n",
              "      <td>23237.620000</td>\n",
              "      <td>71433.495000</td>\n",
              "      <td>92419.380000</td>\n",
              "      <td>2013.000000</td>\n",
              "    </tr>\n",
              "    <tr>\n",
              "      <th>75%</th>\n",
              "      <td>111471.250000</td>\n",
              "      <td>NaN</td>\n",
              "      <td>NaN</td>\n",
              "      <td>94611.010000</td>\n",
              "      <td>4659.260000</td>\n",
              "      <td>4237.905000</td>\n",
              "      <td>33470.330000</td>\n",
              "      <td>105849.575000</td>\n",
              "      <td>132887.897500</td>\n",
              "      <td>2014.000000</td>\n",
              "    </tr>\n",
              "    <tr>\n",
              "      <th>max</th>\n",
              "      <td>148626.000000</td>\n",
              "      <td>NaN</td>\n",
              "      <td>NaN</td>\n",
              "      <td>319275.010000</td>\n",
              "      <td>245131.880000</td>\n",
              "      <td>400184.250000</td>\n",
              "      <td>96570.660000</td>\n",
              "      <td>567595.430000</td>\n",
              "      <td>567595.430000</td>\n",
              "      <td>2014.000000</td>\n",
              "    </tr>\n",
              "  </tbody>\n",
              "</table>\n",
              "</div>"
            ],
            "text/plain": [
              "                   Id EmployeeName          JobTitle        BasePay  \\\n",
              "count   148620.000000       148620            148620  148620.000000   \n",
              "unique            NaN       110801              2158            NaN   \n",
              "top               NaN    Kevin Lee  Transit Operator            NaN   \n",
              "freq              NaN           13              7036            NaN   \n",
              "mean     74313.539140          NaN               NaN   66068.840490   \n",
              "std      42904.989939          NaN               NaN   42879.976478   \n",
              "min          1.000000          NaN               NaN    -166.010000   \n",
              "25%      37158.750000          NaN               NaN   32843.760000   \n",
              "50%      74313.500000          NaN               NaN   64873.275000   \n",
              "75%     111471.250000          NaN               NaN   94611.010000   \n",
              "max     148626.000000          NaN               NaN  319275.010000   \n",
              "\n",
              "          OvertimePay       OtherPay       Benefits       TotalPay  \\\n",
              "count   148620.000000  148620.000000  148620.000000  148620.000000   \n",
              "unique            NaN            NaN            NaN            NaN   \n",
              "top               NaN            NaN            NaN            NaN   \n",
              "freq              NaN            NaN            NaN            NaN   \n",
              "mean      5067.082507    3649.507985   18928.562463   74785.430982   \n",
              "std      11455.310413    8057.246124   17164.855593   50510.115978   \n",
              "min         -0.010000   -7058.590000     -13.800000       0.000000   \n",
              "25%          0.000000       0.000000       0.000000   36198.150000   \n",
              "50%          0.000000     812.425000   23237.620000   71433.495000   \n",
              "75%       4659.260000    4237.905000   33470.330000  105849.575000   \n",
              "max     245131.880000  400184.250000   96570.660000  567595.430000   \n",
              "\n",
              "        TotalPayBenefits           Year  \n",
              "count      148620.000000  148620.000000  \n",
              "unique               NaN            NaN  \n",
              "top                  NaN            NaN  \n",
              "freq                 NaN            NaN  \n",
              "mean        93713.993445    2012.522386  \n",
              "std         62784.714471       1.117458  \n",
              "min             0.300000    2011.000000  \n",
              "25%         44132.715000    2012.000000  \n",
              "50%         92419.380000    2013.000000  \n",
              "75%        132887.897500    2014.000000  \n",
              "max        567595.430000    2014.000000  "
            ]
          },
          "execution_count": 30,
          "metadata": {},
          "output_type": "execute_result"
        }
      ],
      "source": [
        "df_cleaned.describe(include='all')"
      ]
    },
    {
      "cell_type": "code",
      "execution_count": 31,
      "metadata": {
        "colab": {
          "base_uri": "https://localhost:8080/"
        },
        "id": "-6wgJTMdxp3H",
        "outputId": "eabdd4ed-dda8-4667-cc4d-3fa73f1615cb"
      },
      "outputs": [
        {
          "data": {
            "text/plain": [
              "Id                  148625.00\n",
              "BasePay             319441.02\n",
              "OvertimePay         245131.89\n",
              "OtherPay            407242.84\n",
              "Benefits             96584.46\n",
              "TotalPay            567595.43\n",
              "TotalPayBenefits    567595.13\n",
              "Year                     3.00\n",
              "dtype: float64"
            ]
          },
          "execution_count": 31,
          "metadata": {},
          "output_type": "execute_result"
        }
      ],
      "source": [
        "# Getting Range\n",
        "df_cleaned.max(numeric_only=True) - df_cleaned.min(numeric_only=True)"
      ]
    },
    {
      "cell_type": "code",
      "execution_count": 32,
      "metadata": {
        "colab": {
          "base_uri": "https://localhost:8080/"
        },
        "id": "j1cjOD7bx7NM",
        "outputId": "cb5ec3a7-58a0-4dc9-ff22-d6c8de6c15ff"
      },
      "outputs": [
        {
          "data": {
            "text/plain": [
              "Id                  74313.500\n",
              "BasePay             64873.275\n",
              "OvertimePay             0.000\n",
              "OtherPay              812.425\n",
              "Benefits            23237.620\n",
              "TotalPay            71433.495\n",
              "TotalPayBenefits    92419.380\n",
              "Year                 2013.000\n",
              "dtype: float64"
            ]
          },
          "execution_count": 32,
          "metadata": {},
          "output_type": "execute_result"
        }
      ],
      "source": [
        "# Getting Median\n",
        "df_cleaned.median(numeric_only=True)"
      ]
    },
    {
      "cell_type": "code",
      "execution_count": 33,
      "metadata": {
        "colab": {
          "base_uri": "https://localhost:8080/"
        },
        "id": "YzlDYbQKx_NX",
        "outputId": "dc69c1a3-bf2b-4db1-eaec-2d8e12c80f0d"
      },
      "outputs": [
        {
          "data": {
            "text/plain": [
              "Id                                 1\n",
              "EmployeeName               Kevin Lee\n",
              "JobTitle            Transit Operator\n",
              "BasePay                          0.0\n",
              "OvertimePay                      0.0\n",
              "OtherPay                         0.0\n",
              "Benefits                         0.0\n",
              "TotalPay                         0.0\n",
              "TotalPayBenefits             7959.18\n",
              "Year                          2014.0\n",
              "Name: 0, dtype: object"
            ]
          },
          "execution_count": 33,
          "metadata": {},
          "output_type": "execute_result"
        }
      ],
      "source": [
        "# Getting Mode \"1st\"\n",
        "df_cleaned.mode().iloc[0]"
      ]
    },
    {
      "cell_type": "code",
      "execution_count": 34,
      "metadata": {
        "colab": {
          "base_uri": "https://localhost:8080/"
        },
        "id": "0GBX9ZBUyD1M",
        "outputId": "f913a626-a0e1-4866-b8e2-5502fbd3e7e9"
      },
      "outputs": [
        {
          "data": {
            "text/plain": [
              "Id                  42904.989939\n",
              "BasePay             42879.976478\n",
              "OvertimePay         11455.310413\n",
              "OtherPay             8057.246124\n",
              "Benefits            17164.855593\n",
              "TotalPay            50510.115978\n",
              "TotalPayBenefits    62784.714471\n",
              "Year                    1.117458\n",
              "dtype: float64"
            ]
          },
          "execution_count": 34,
          "metadata": {},
          "output_type": "execute_result"
        }
      ],
      "source": [
        "# Getting Standard Deviation\n",
        "df_cleaned.std(numeric_only=True)"
      ]
    },
    {
      "cell_type": "markdown",
      "metadata": {
        "id": "8GQCVcuiz5PE"
      },
      "source": [
        "So here is a summry of the new Basic Statstics after data cleaning:\n",
        "\n",
        "<table>\n",
        "  <thead>\n",
        "    <tr>\n",
        "      <td>#</td>\n",
        "      <td>Column</td>\n",
        "      <td>Mean</td>\n",
        "      <td>Median</td>\n",
        "      <td>Mode [1st]</td>\n",
        "      <td>Minimum</td>\n",
        "      <td>Maximum</td>\n",
        "      <td>Range</td>\n",
        "      <td>Standard Deviation</td>\n",
        "    </tr>\n",
        "  </thead>\n",
        "  <tbody>\n",
        "    <tr>\n",
        "      <td>1</td>\n",
        "      <td>Id</td>\n",
        "      <td>74313.54</td>\n",
        "      <td>74313.50</td>\n",
        "      <td>1</td>\n",
        "      <td>1.00</td>\n",
        "      <td>148626.00</td>\n",
        "      <td>148625.00</td>\n",
        "      <td>42904.99</td>\n",
        "    </tr>\n",
        "    <tr>\n",
        "      <td>2</td>\n",
        "      <td>EmployeeName</td>\n",
        "      <td>---</td>\n",
        "      <td>---</td>\n",
        "      <td>Kevin Lee</td>\n",
        "      <td>---</td>\n",
        "      <td>---</td>\n",
        "      <td>---</td>\n",
        "      <td>---</td>\n",
        "    </tr>\n",
        "    <tr>\n",
        "      <td>3</td>\n",
        "      <td>JobTitle</td>\n",
        "      <td>---</td>\n",
        "      <td>---</td>\n",
        "      <td>Transit Operator</td>\n",
        "      <td>---</td>\n",
        "      <td>---</td>\n",
        "      <td>---</td>\n",
        "      <td>---</td>\n",
        "    </tr>\n",
        "    <tr>\n",
        "      <td>4</td>\n",
        "      <td>BasePay</td>\n",
        "      <td>66068.84</td>\n",
        "      <td>64873.27</td>\n",
        "      <td>0.0</td>\n",
        "      <td>-166.01</td>\n",
        "      <td>319275.01</td>\n",
        "      <td>319441.02</td>\n",
        "      <td>42879.98</td>\n",
        "    </tr>\n",
        "    <tr>\n",
        "      <td>5</td>\n",
        "      <td>OvertimePay</td>\n",
        "      <td>5067.08</td>\n",
        "      <td>0.00</td>\n",
        "      <td>0.0</td>\n",
        "      <td>-0.01</td>\n",
        "      <td>245131.88</td>\n",
        "      <td>245131.89</td>\n",
        "      <td>11455.31</td>\n",
        "    </tr>\n",
        "    <tr>\n",
        "      <td>6</td>\n",
        "      <td>OtherPay</td>\n",
        "      <td>3649.51</td>\n",
        "      <td>812.42</td>\n",
        "      <td>0.0</td>\n",
        "      <td>-7058.59</td>\n",
        "      <td>400184.25</td>\n",
        "      <td>407242.84</td>\n",
        "      <td>8057.25</td>\n",
        "    </tr>\n",
        "    <tr>\n",
        "      <td>7</td>\n",
        "      <td>Benefits</td>\n",
        "      <td>18928.56</td>\n",
        "      <td>23237.62</td>\n",
        "      <td>0.0</td>\n",
        "      <td>-13.80</td>\n",
        "      <td>96570.66</td>\n",
        "      <td>96584.46</td>\n",
        "      <td>17164.86</td>\n",
        "    </tr>\n",
        "    <tr>\n",
        "      <td>8</td>\n",
        "      <td>TotalPay</td>\n",
        "      <td>74785.43</td>\n",
        "      <td>71433.49</td>\n",
        "      <td>0.0</td>\n",
        "      <td>0.00</td>\n",
        "      <td>567595.43</td>\n",
        "      <td>567595.43</td>\n",
        "      <td>50510.12</td>\n",
        "    </tr>\n",
        "    <tr>\n",
        "      <td>9</td>\n",
        "      <td>TotalPayBenefits</td>\n",
        "      <td>93713.99</td>\n",
        "      <td>92419.38</td>\n",
        "      <td>7959.18</td>\n",
        "      <td>0.30</td>\n",
        "      <td>567595.43</td>\n",
        "      <td>567595.13</td>\n",
        "      <td>62784.71</td>\n",
        "    </tr>\n",
        "    <tr>\n",
        "      <td>10</td>\n",
        "      <td>Year</td>\n",
        "      <td>2012.52</td>\n",
        "      <td>2013.00</td>\n",
        "      <td>2014.0</td>\n",
        "      <td>2011.00</td>\n",
        "      <td>2014.00</td>\n",
        "      <td>3.00</td>\n",
        "      <td>1.12</td>\n",
        "    </tr>\n",
        "  </tbody>\n",
        "</table>"
      ]
    },
    {
      "cell_type": "markdown",
      "metadata": {
        "id": "JgpfEwFJL-_T"
      },
      "source": [
        "Let's now have some Fun 😎"
      ]
    },
    {
      "cell_type": "code",
      "execution_count": 35,
      "metadata": {
        "colab": {
          "base_uri": "https://localhost:8080/",
          "height": 0
        },
        "id": "yLmKAup9L-Ks",
        "outputId": "8bf0514d-ffb9-4b51-c8b6-bcebdfda89f8"
      },
      "outputs": [
        {
          "data": {
            "text/plain": [
              "<Axes: >"
            ]
          },
          "execution_count": 35,
          "metadata": {},
          "output_type": "execute_result"
        },
        {
          "data": {
            "image/png": "[encoded data removed]",
            "text/plain": [
              "<Figure size 640x480 with 1 Axes>"
            ]
          },
          "metadata": {},
          "output_type": "display_data"
        }
      ],
      "source": [
        "df_cleaned.boxplot(column=cols[3:9])  # Salary related columns"
      ]
    },
    {
      "cell_type": "markdown",
      "metadata": {
        "id": "7FOs7i1Q6h9C"
      },
      "source": [
        "As any Normal Orgnization's Salaries, our Data has outliers and is [Skewed to te Right](https://alanarnholt.github.io/PDS-Bookdown2/skewed-right-distributions.html) 🤑."
      ]
    },
    {
      "cell_type": "code",
      "execution_count": 36,
      "metadata": {
        "colab": {
          "base_uri": "https://localhost:8080/",
          "height": 0
        },
        "id": "qdZ9tnIRIK_J",
        "outputId": "2dfaac96-dbdb-4a94-b7ac-ab5d600a990e"
      },
      "outputs": [
        {
          "data": {
            "image/png": "[encoded data removed]",
            "text/plain": [
              "<Figure size 1500x1000 with 6 Axes>"
            ]
          },
          "metadata": {},
          "output_type": "display_data"
        }
      ],
      "source": [
        "columns_to_plot = cols[3:9]\n",
        "\n",
        "num_cols = 2\n",
        "num_rows = (len(\n",
        "    columns_to_plot\n",
        ") + num_cols - 1) // num_cols  # Calculate number of rows needed for the grid\n",
        "\n",
        "fig, axs = plt.subplots(\n",
        "    num_rows, num_cols, figsize=(15, 10)\n",
        ")  # Create subplots grid\n",
        "\n",
        "plt.subplots_adjust(hspace=0.5, wspace=0.5)  # Add margin between subplots\n",
        "\n",
        "for i, column in enumerate(columns_to_plot):\n",
        "    row = i // num_cols\n",
        "    col = i % num_cols\n",
        "    axs[row, col].hist(df_cleaned[column], bins=50)\n",
        "    axs[row, col].set_title(column)\n",
        "    axs[row, col].set_xlabel(column)\n",
        "    axs[row, col].set_ylabel('Frequency')\n",
        "\n",
        "# Hide any unused subplots\n",
        "for i in range(len(columns_to_plot), num_rows * num_cols):\n",
        "    row = i // num_cols\n",
        "    col = i % num_cols\n",
        "    axs[row, col].axis('off')\n",
        "\n",
        "plt.tight_layout(pad=4)\n",
        "plt.show()"
      ]
    },
    {
      "cell_type": "markdown",
      "metadata": {
        "id": "zZd4OhBBHp3n"
      },
      "source": [
        "It feels like there is a mix between two types of models, I'll guess the higher concentration of the low Payments part of the curve is due to Freelancers or Part-Time Jobs, while the rest of the rest of the graph is due to Full-time Normal Jobs."
      ]
    },
    {
      "cell_type": "code",
      "execution_count": 37,
      "metadata": {
        "colab": {
          "base_uri": "https://localhost:8080/",
          "height": 0
        },
        "id": "S5Xqj7KBGoaC",
        "outputId": "ddf669b6-75e7-4ceb-f242-5fd1eb45a40f"
      },
      "outputs": [
        {
          "data": {
            "image/png": "[encoded data removed]",
            "text/plain": [
              "<Figure size 640x480 with 1 Axes>"
            ]
          },
          "metadata": {},
          "output_type": "display_data"
        }
      ],
      "source": [
        "df_cleaned[\n",
        "    (df_cleaned.BasePay > 0)\n",
        "    &\n",
        "    (df_cleaned.OvertimePay > 0)\n",
        "    &\n",
        "    (df_cleaned.OtherPay > 0)\n",
        "].TotalPayBenefits.plot.hist(\n",
        "    bins=50,\n",
        "    title=\"TotalPayBenefits\\n(BasePay & OvertimePay & OtherPay) > 0\"\n",
        ");"
      ]
    },
    {
      "cell_type": "markdown",
      "metadata": {
        "id": "T90EWDVLJlgi"
      },
      "source": [
        "It's a wild guess but we can target the Full-time jobs by filtering rows having no BasePay, OvertimePay, and OtherPay less than or equal to Zero."
      ]
    },
    {
      "cell_type": "code",
      "execution_count": 38,
      "metadata": {
        "colab": {
          "base_uri": "https://localhost:8080/",
          "height": 0
        },
        "id": "DLNZYbH_KWH9",
        "outputId": "efb9c5c4-1f98-4f25-c839-1a410c823ad5"
      },
      "outputs": [
        {
          "data": {
            "image/png": "[encoded data removed]",
            "text/plain": [
              "<Figure size 640x480 with 1 Axes>"
            ]
          },
          "metadata": {},
          "output_type": "display_data"
        }
      ],
      "source": [
        "def label_function(val):\n",
        "    return f'{val / 100 * len(df):.0f}\\n{val:.0f}%'\n",
        "\n",
        "df_cleaned.groupby('Year').size().plot(kind='pie', autopct=label_function);"
      ]
    },
    {
      "cell_type": "markdown",
      "metadata": {
        "id": "Uer2zVLvMPCc"
      },
      "source": [
        "There is no big difference between the number of Employees between years, the difference between the biggest and the smallest is around 2%."
      ]
    },
    {
      "cell_type": "markdown",
      "metadata": {
        "id": "d2BTm1VEQxY4"
      },
      "source": [
        "---\n",
        "\n",
        "\n",
        "## **5. Grouped Analysis**"
      ]
    },
    {
      "cell_type": "markdown",
      "metadata": {
        "id": "jMeB14lzfsMC"
      },
      "source": [
        "Let's group the Data by the Year Column."
      ]
    },
    {
      "cell_type": "code",
      "execution_count": 39,
      "metadata": {
        "colab": {
          "base_uri": "https://localhost:8080/",
          "height": 0
        },
        "id": "0E3Y5EE2TSMH",
        "outputId": "4906b37e-8e6b-4900-85b7-e3572ecf043b"
      },
      "outputs": [
        {
          "data": {
            "image/png": "[encoded data removed]",
            "text/plain": [
              "<Figure size 640x480 with 1 Axes>"
            ]
          },
          "metadata": {},
          "output_type": "display_data"
        }
      ],
      "source": [
        "df_cleaned.groupby('Year')[cols[3:9]].mean().plot(kind=\"bar\");"
      ]
    },
    {
      "cell_type": "code",
      "execution_count": 40,
      "metadata": {
        "colab": {
          "base_uri": "https://localhost:8080/",
          "height": 0
        },
        "id": "uJjHJH-CYoAL",
        "outputId": "185d17e8-e28a-4329-bd78-c9229fce36f9"
      },
      "outputs": [
        {
          "data": {
            "text/html": [
              "<div>\n",
              "<style scoped>\n",
              "    .dataframe tbody tr th:only-of-type {\n",
              "        vertical-align: middle;\n",
              "    }\n",
              "\n",
              "    .dataframe tbody tr th {\n",
              "        vertical-align: top;\n",
              "    }\n",
              "\n",
              "    .dataframe thead th {\n",
              "        text-align: right;\n",
              "    }\n",
              "</style>\n",
              "<table border=\"1\" class=\"dataframe\">\n",
              "  <thead>\n",
              "    <tr style=\"text-align: right;\">\n",
              "      <th></th>\n",
              "      <th>min</th>\n",
              "      <th>max</th>\n",
              "      <th>sum</th>\n",
              "      <th>mean</th>\n",
              "    </tr>\n",
              "    <tr>\n",
              "      <th>Year</th>\n",
              "      <th></th>\n",
              "      <th></th>\n",
              "      <th></th>\n",
              "      <th></th>\n",
              "    </tr>\n",
              "  </thead>\n",
              "  <tbody>\n",
              "    <tr>\n",
              "      <th>2011</th>\n",
              "      <td>0.0</td>\n",
              "      <td>0.00</td>\n",
              "      <td>0.000000e+00</td>\n",
              "      <td>0.000000</td>\n",
              "    </tr>\n",
              "    <tr>\n",
              "      <th>2012</th>\n",
              "      <td>0.0</td>\n",
              "      <td>84681.82</td>\n",
              "      <td>9.720918e+08</td>\n",
              "      <td>26439.966967</td>\n",
              "    </tr>\n",
              "    <tr>\n",
              "      <th>2013</th>\n",
              "      <td>0.0</td>\n",
              "      <td>86533.21</td>\n",
              "      <td>8.961163e+08</td>\n",
              "      <td>23830.978868</td>\n",
              "    </tr>\n",
              "    <tr>\n",
              "      <th>2014</th>\n",
              "      <td>-13.8</td>\n",
              "      <td>96570.66</td>\n",
              "      <td>9.449548e+08</td>\n",
              "      <td>24805.219303</td>\n",
              "    </tr>\n",
              "  </tbody>\n",
              "</table>\n",
              "</div>"
            ],
            "text/plain": [
              "       min       max           sum          mean\n",
              "Year                                            \n",
              "2011   0.0      0.00  0.000000e+00      0.000000\n",
              "2012   0.0  84681.82  9.720918e+08  26439.966967\n",
              "2013   0.0  86533.21  8.961163e+08  23830.978868\n",
              "2014 -13.8  96570.66  9.449548e+08  24805.219303"
            ]
          },
          "execution_count": 40,
          "metadata": {},
          "output_type": "execute_result"
        }
      ],
      "source": [
        "df_cleaned.groupby(\"Year\")['Benefits'].aggregate([\n",
        "    min,\n",
        "    max,\n",
        "    sum,\n",
        "    'mean'\n",
        "])"
      ]
    },
    {
      "cell_type": "markdown",
      "metadata": {
        "id": "4A7XnRgCaHSo"
      },
      "source": [
        "- There was a growth in Salaries Mean from 2011 to 2013, but then a decline after 2013.\n",
        "- We can also see that they activated Benefits starting in 2012, there were no Benefits in 2011."
      ]
    },
    {
      "cell_type": "markdown",
      "metadata": {
        "id": "ZobuJ7FhfznD"
      },
      "source": [
        "How do get paid the most BasePay each year?"
      ]
    },
    {
      "cell_type": "code",
      "execution_count": 41,
      "metadata": {
        "colab": {
          "base_uri": "https://localhost:8080/",
          "height": 0
        },
        "id": "B7jvMVYYcVD2",
        "outputId": "71e5cb61-67a7-4fdd-84d0-96da1293e0eb"
      },
      "outputs": [
        {
          "data": {
            "text/html": [
              "<div>\n",
              "<style scoped>\n",
              "    .dataframe tbody tr th:only-of-type {\n",
              "        vertical-align: middle;\n",
              "    }\n",
              "\n",
              "    .dataframe tbody tr th {\n",
              "        vertical-align: top;\n",
              "    }\n",
              "\n",
              "    .dataframe thead th {\n",
              "        text-align: right;\n",
              "    }\n",
              "</style>\n",
              "<table border=\"1\" class=\"dataframe\">\n",
              "  <thead>\n",
              "    <tr style=\"text-align: right;\">\n",
              "      <th></th>\n",
              "      <th>Year</th>\n",
              "      <th>EmployeeName</th>\n",
              "      <th>BasePay</th>\n",
              "    </tr>\n",
              "  </thead>\n",
              "  <tbody>\n",
              "    <tr>\n",
              "      <th>12</th>\n",
              "      <td>2011</td>\n",
              "      <td>EDWARD HARRINGTON</td>\n",
              "      <td>294580.02</td>\n",
              "    </tr>\n",
              "    <tr>\n",
              "      <th>36160</th>\n",
              "      <td>2012</td>\n",
              "      <td>Gregory Suhr</td>\n",
              "      <td>302578.00</td>\n",
              "    </tr>\n",
              "    <tr>\n",
              "      <th>72925</th>\n",
              "      <td>2013</td>\n",
              "      <td>Gregory P Suhr</td>\n",
              "      <td>319275.01</td>\n",
              "    </tr>\n",
              "    <tr>\n",
              "      <th>110532</th>\n",
              "      <td>2014</td>\n",
              "      <td>Amy P Hart</td>\n",
              "      <td>318835.49</td>\n",
              "    </tr>\n",
              "  </tbody>\n",
              "</table>\n",
              "</div>"
            ],
            "text/plain": [
              "        Year       EmployeeName    BasePay\n",
              "12      2011  EDWARD HARRINGTON  294580.02\n",
              "36160   2012       Gregory Suhr  302578.00\n",
              "72925   2013     Gregory P Suhr  319275.01\n",
              "110532  2014         Amy P Hart  318835.49"
            ]
          },
          "execution_count": 41,
          "metadata": {},
          "output_type": "execute_result"
        }
      ],
      "source": [
        "df_cleaned.loc[df_cleaned.groupby('Year')['BasePay'].idxmax()]\\\n",
        " [['Year', 'EmployeeName', 'BasePay']]"
      ]
    },
    {
      "cell_type": "markdown",
      "metadata": {
        "id": "9gVqeoPEfnLZ"
      },
      "source": [
        "Okay, I can see that the Chief of the Police gets the highest BasePay for Two years in a row."
      ]
    },
    {
      "cell_type": "code",
      "execution_count": 42,
      "metadata": {
        "colab": {
          "base_uri": "https://localhost:8080/",
          "height": 0
        },
        "id": "q1mhpxEEh4ZJ",
        "outputId": "8302f7ab-756f-472e-caf0-50a4f15c275b"
      },
      "outputs": [
        {
          "data": {
            "text/html": [
              "<div>\n",
              "<style scoped>\n",
              "    .dataframe tbody tr th:only-of-type {\n",
              "        vertical-align: middle;\n",
              "    }\n",
              "\n",
              "    .dataframe tbody tr th {\n",
              "        vertical-align: top;\n",
              "    }\n",
              "\n",
              "    .dataframe thead th {\n",
              "        text-align: right;\n",
              "    }\n",
              "</style>\n",
              "<table border=\"1\" class=\"dataframe\">\n",
              "  <thead>\n",
              "    <tr style=\"text-align: right;\">\n",
              "      <th></th>\n",
              "      <th>Year</th>\n",
              "      <th>EmployeeName</th>\n",
              "      <th>JobTitle</th>\n",
              "      <th>TotalPay</th>\n",
              "    </tr>\n",
              "  </thead>\n",
              "  <tbody>\n",
              "    <tr>\n",
              "      <th>0</th>\n",
              "      <td>2011</td>\n",
              "      <td>NATHANIEL FORD</td>\n",
              "      <td>GENERAL MANAGER-METROPOLITAN TRANSIT AUTHORITY</td>\n",
              "      <td>567595.43</td>\n",
              "    </tr>\n",
              "    <tr>\n",
              "      <th>36159</th>\n",
              "      <td>2012</td>\n",
              "      <td>Gary Altenberg</td>\n",
              "      <td>Lieutenant, Fire Suppression</td>\n",
              "      <td>362844.66</td>\n",
              "    </tr>\n",
              "    <tr>\n",
              "      <th>72927</th>\n",
              "      <td>2013</td>\n",
              "      <td>Samson  Lai</td>\n",
              "      <td>Battalion Chief, Fire Suppress</td>\n",
              "      <td>347102.32</td>\n",
              "    </tr>\n",
              "    <tr>\n",
              "      <th>110531</th>\n",
              "      <td>2014</td>\n",
              "      <td>David Shinn</td>\n",
              "      <td>Deputy Chief 3</td>\n",
              "      <td>471952.64</td>\n",
              "    </tr>\n",
              "  </tbody>\n",
              "</table>\n",
              "</div>"
            ],
            "text/plain": [
              "        Year    EmployeeName                                        JobTitle  \\\n",
              "0       2011  NATHANIEL FORD  GENERAL MANAGER-METROPOLITAN TRANSIT AUTHORITY   \n",
              "36159   2012  Gary Altenberg                    Lieutenant, Fire Suppression   \n",
              "72927   2013     Samson  Lai                  Battalion Chief, Fire Suppress   \n",
              "110531  2014     David Shinn                                  Deputy Chief 3   \n",
              "\n",
              "         TotalPay  \n",
              "0       567595.43  \n",
              "36159   362844.66  \n",
              "72927   347102.32  \n",
              "110531  471952.64  "
            ]
          },
          "execution_count": 42,
          "metadata": {},
          "output_type": "execute_result"
        }
      ],
      "source": [
        "df_cleaned.loc[df_cleaned.groupby('Year')['TotalPay'].idxmax()]\\\n",
        " [['Year', 'EmployeeName', 'JobTitle', 'TotalPay']]"
      ]
    },
    {
      "cell_type": "code",
      "execution_count": 43,
      "metadata": {
        "colab": {
          "base_uri": "https://localhost:8080/",
          "height": 0
        },
        "id": "kL9LKyP7fLhR",
        "outputId": "ed6fb91a-14d2-44d6-8860-c14a20cb7bfa"
      },
      "outputs": [
        {
          "data": {
            "text/html": [
              "<div>\n",
              "<style scoped>\n",
              "    .dataframe tbody tr th:only-of-type {\n",
              "        vertical-align: middle;\n",
              "    }\n",
              "\n",
              "    .dataframe tbody tr th {\n",
              "        vertical-align: top;\n",
              "    }\n",
              "\n",
              "    .dataframe thead th {\n",
              "        text-align: right;\n",
              "    }\n",
              "</style>\n",
              "<table border=\"1\" class=\"dataframe\">\n",
              "  <thead>\n",
              "    <tr style=\"text-align: right;\">\n",
              "      <th></th>\n",
              "      <th>Year</th>\n",
              "      <th>EmployeeName</th>\n",
              "      <th>JobTitle</th>\n",
              "      <th>Benefits</th>\n",
              "    </tr>\n",
              "  </thead>\n",
              "  <tbody>\n",
              "    <tr>\n",
              "      <th>0</th>\n",
              "      <td>2011</td>\n",
              "      <td>NATHANIEL FORD</td>\n",
              "      <td>GENERAL MANAGER-METROPOLITAN TRANSIT AUTHORITY</td>\n",
              "      <td>0.00</td>\n",
              "    </tr>\n",
              "    <tr>\n",
              "      <th>36164</th>\n",
              "      <td>2012</td>\n",
              "      <td>Amy Hart</td>\n",
              "      <td>Dept Head V</td>\n",
              "      <td>84681.82</td>\n",
              "    </tr>\n",
              "    <tr>\n",
              "      <th>72925</th>\n",
              "      <td>2013</td>\n",
              "      <td>Gregory P Suhr</td>\n",
              "      <td>Chief of Police</td>\n",
              "      <td>86533.21</td>\n",
              "    </tr>\n",
              "    <tr>\n",
              "      <th>110533</th>\n",
              "      <td>2014</td>\n",
              "      <td>William J Coaker Jr.</td>\n",
              "      <td>Chief Investment Officer</td>\n",
              "      <td>96570.66</td>\n",
              "    </tr>\n",
              "  </tbody>\n",
              "</table>\n",
              "</div>"
            ],
            "text/plain": [
              "        Year          EmployeeName  \\\n",
              "0       2011        NATHANIEL FORD   \n",
              "36164   2012              Amy Hart   \n",
              "72925   2013        Gregory P Suhr   \n",
              "110533  2014  William J Coaker Jr.   \n",
              "\n",
              "                                              JobTitle  Benefits  \n",
              "0       GENERAL MANAGER-METROPOLITAN TRANSIT AUTHORITY      0.00  \n",
              "36164                                      Dept Head V  84681.82  \n",
              "72925                                  Chief of Police  86533.21  \n",
              "110533                        Chief Investment Officer  96570.66  "
            ]
          },
          "execution_count": 43,
          "metadata": {},
          "output_type": "execute_result"
        }
      ],
      "source": [
        "df_cleaned.loc[df_cleaned.groupby('Year')['Benefits'].idxmax()]\\\n",
        " [['Year', 'EmployeeName', 'JobTitle', 'Benefits']]"
      ]
    },
    {
      "cell_type": "code",
      "execution_count": 44,
      "metadata": {
        "colab": {
          "base_uri": "https://localhost:8080/",
          "height": 0
        },
        "id": "X_yUT2Kvh_eS",
        "outputId": "8817e468-3e43-4526-8f68-109f997df523"
      },
      "outputs": [
        {
          "data": {
            "text/html": [
              "<div>\n",
              "<style scoped>\n",
              "    .dataframe tbody tr th:only-of-type {\n",
              "        vertical-align: middle;\n",
              "    }\n",
              "\n",
              "    .dataframe tbody tr th {\n",
              "        vertical-align: top;\n",
              "    }\n",
              "\n",
              "    .dataframe thead th {\n",
              "        text-align: right;\n",
              "    }\n",
              "</style>\n",
              "<table border=\"1\" class=\"dataframe\">\n",
              "  <thead>\n",
              "    <tr style=\"text-align: right;\">\n",
              "      <th></th>\n",
              "      <th>Year</th>\n",
              "      <th>EmployeeName</th>\n",
              "      <th>JobTitle</th>\n",
              "      <th>TotalPayBenefits</th>\n",
              "    </tr>\n",
              "  </thead>\n",
              "  <tbody>\n",
              "    <tr>\n",
              "      <th>0</th>\n",
              "      <td>2011</td>\n",
              "      <td>NATHANIEL FORD</td>\n",
              "      <td>GENERAL MANAGER-METROPOLITAN TRANSIT AUTHORITY</td>\n",
              "      <td>567595.43</td>\n",
              "    </tr>\n",
              "    <tr>\n",
              "      <th>36159</th>\n",
              "      <td>2012</td>\n",
              "      <td>Gary Altenberg</td>\n",
              "      <td>Lieutenant, Fire Suppression</td>\n",
              "      <td>407274.78</td>\n",
              "    </tr>\n",
              "    <tr>\n",
              "      <th>72925</th>\n",
              "      <td>2013</td>\n",
              "      <td>Gregory P Suhr</td>\n",
              "      <td>Chief of Police</td>\n",
              "      <td>425815.28</td>\n",
              "    </tr>\n",
              "    <tr>\n",
              "      <th>110531</th>\n",
              "      <td>2014</td>\n",
              "      <td>David Shinn</td>\n",
              "      <td>Deputy Chief 3</td>\n",
              "      <td>510732.68</td>\n",
              "    </tr>\n",
              "  </tbody>\n",
              "</table>\n",
              "</div>"
            ],
            "text/plain": [
              "        Year    EmployeeName                                        JobTitle  \\\n",
              "0       2011  NATHANIEL FORD  GENERAL MANAGER-METROPOLITAN TRANSIT AUTHORITY   \n",
              "36159   2012  Gary Altenberg                    Lieutenant, Fire Suppression   \n",
              "72925   2013  Gregory P Suhr                                 Chief of Police   \n",
              "110531  2014     David Shinn                                  Deputy Chief 3   \n",
              "\n",
              "        TotalPayBenefits  \n",
              "0              567595.43  \n",
              "36159          407274.78  \n",
              "72925          425815.28  \n",
              "110531         510732.68  "
            ]
          },
          "execution_count": 44,
          "metadata": {},
          "output_type": "execute_result"
        }
      ],
      "source": [
        "df_cleaned.loc[df_cleaned.groupby('Year')['TotalPayBenefits'].idxmax()]\\\n",
        " [['Year', 'EmployeeName', 'JobTitle', 'TotalPayBenefits']]"
      ]
    },
    {
      "cell_type": "markdown",
      "metadata": {
        "id": "DtRU8qaGiIiz"
      },
      "source": [
        "So Jobs Containing Chief, Head, Manager or some kind of high position have the highest Pay and Benefits as Expected."
      ]
    },
    {
      "cell_type": "markdown",
      "metadata": {
        "id": "Gy-B6E4ki-NL"
      },
      "source": [
        "---\n",
        "\n",
        "\n",
        "## **6. Simple Correlation Analysis**"
      ]
    },
    {
      "cell_type": "markdown",
      "metadata": {
        "id": "T_BjH7kPjKB6"
      },
      "source": [
        "What kind of relation between BasePay and Benefits?"
      ]
    },
    {
      "cell_type": "code",
      "execution_count": 45,
      "metadata": {
        "colab": {
          "base_uri": "https://localhost:8080/",
          "height": 485
        },
        "id": "Q6tK1blwkBXc",
        "outputId": "c9597a7e-c8ea-4af5-a8ad-2d2ca15d5b7b"
      },
      "outputs": [
        {
          "name": "stdout",
          "output_type": "stream",
          "text": [
            "Correlation between BasePay and Benefits = 0.65\n",
            "\n"
          ]
        },
        {
          "data": {
            "image/png": "[encoded data removed]",
            "text/plain": [
              "<Figure size 640x480 with 1 Axes>"
            ]
          },
          "metadata": {},
          "output_type": "display_data"
        }
      ],
      "source": [
        "corll = df_cleaned.BasePay.corr(df_cleaned.Benefits)\n",
        "print(f\"Correlation between BasePay and Benefits = {round(corll, 2)}\\n\")\n",
        "df_cleaned.plot.scatter(x='BasePay', y='Benefits', s=4);"
      ]
    },
    {
      "cell_type": "markdown",
      "metadata": {
        "id": "Rz7wJMldo1W4"
      },
      "source": [
        "But to be fair we should remove 2011 rows when their was no Benefits yet."
      ]
    },
    {
      "cell_type": "code",
      "execution_count": 46,
      "metadata": {
        "colab": {
          "base_uri": "https://localhost:8080/",
          "height": 485
        },
        "id": "Qj431_uMpFcb",
        "outputId": "92533420-b997-4cb4-f4e9-945daf8fbea1"
      },
      "outputs": [
        {
          "name": "stdout",
          "output_type": "stream",
          "text": [
            "Correlation between BasePay and Benefits = 0.92\n",
            "\n"
          ]
        },
        {
          "data": {
            "image/png": "[encoded data removed]",
            "text/plain": [
              "<Figure size 640x480 with 1 Axes>"
            ]
          },
          "metadata": {},
          "output_type": "display_data"
        }
      ],
      "source": [
        "df_no_2011 = df_cleaned.loc[df_cleaned.Year != 2011]\n",
        "\n",
        "corll = df_no_2011.BasePay.corr(df_no_2011.Benefits)\n",
        "print(f\"Correlation between BasePay and Benefits = {round(corll, 2)}\\n\")\n",
        "df_no_2011.plot.scatter(x='BasePay', y='Benefits', s=4);"
      ]
    },
    {
      "cell_type": "markdown",
      "metadata": {
        "id": "lOXZqlN6nZhg"
      },
      "source": [
        "There is a strong Positive Relationship between BasePay and Benefits."
      ]
    },
    {
      "cell_type": "markdown",
      "metadata": {
        "id": "lPKTcwPqoIi8"
      },
      "source": [
        "What kind of relation between BasePay and TotalPay?"
      ]
    },
    {
      "cell_type": "code",
      "execution_count": 47,
      "metadata": {
        "colab": {
          "base_uri": "https://localhost:8080/",
          "height": 484
        },
        "id": "cvbjSHFloG6Q",
        "outputId": "75849499-5794-4490-c00d-2f55532f837c"
      },
      "outputs": [
        {
          "name": "stdout",
          "output_type": "stream",
          "text": [
            "Correlation between BasePay and TotalPay = 0.95\n",
            "\n"
          ]
        },
        {
          "data": {
            "image/png": "[encoded data removed]",
            "text/plain": [
              "<Figure size 640x480 with 1 Axes>"
            ]
          },
          "metadata": {},
          "output_type": "display_data"
        }
      ],
      "source": [
        "corll = df_cleaned.BasePay.corr(df_cleaned.TotalPay)\n",
        "print(f\"Correlation between BasePay and TotalPay = {round(corll, 2)}\\n\")\n",
        "df_cleaned.plot.scatter(x='BasePay', y='TotalPay', s=4);"
      ]
    },
    {
      "cell_type": "markdown",
      "metadata": {
        "id": "GMjBLEj8oMLx"
      },
      "source": [
        "There is a strong Positive Relationship between BasePay and TotalPay."
      ]
    },
    {
      "cell_type": "markdown",
      "metadata": {
        "id": "YG7fTaY_qlYW"
      },
      "source": [
        "---\n",
        "\n",
        "\n",
        "## **7. Summary of Insights:**"
      ]
    },
    {
      "cell_type": "markdown",
      "metadata": {
        "id": "3W6Jq9u9q1y5"
      },
      "source": [
        "- Number of Rows: 148654\n",
        "- Number of Columns: 13\n",
        "- Data Consists of 3 Categorical Columns and 10 Numerical Columns.\n",
        "- Data Consists of 8 Float columns, 2 Integer columns, and 3 String columns.\n",
        "- Strangely there are Employees with negative salaries.\n",
        "- Notes and Status Columns are empty.\n",
        "- All the data belongs to a single Agency \"San Francisco\".\n",
        "- Data has outliers and is Skewed to the Right.\n",
        "- There is a great chance that the data is a mix between two types of models, which may be due to two different types of salaries Part-Time and Full-time Jobs.\n",
        "- The number of Employees between years is almost the same.\n",
        "- Jobs Titles Containing Chief, Head, Manager or some kind of high position have the highest Salaries.\n",
        "- There was a growth in Salaries Mean from 2011 to 2013, but then a decline after 2013.\n",
        "- The decision to add Benefits to Employees Salary was issued starting from 2012.\n",
        "- The Value of BasePay has a strong positive direct effect on Both Benefits and TotalPay of the Employee."
      ]
    }
  ],
  "metadata": {
    "colab": {
      "collapsed_sections": [
        "8_rNdHiGUT6A",
        "QEZ_aPPJGHAr",
        "OkGpmuvePpUV",
        "TXvz6GelxWrU",
        "g9gPXO-vvHck",
        "d2BTm1VEQxY4",
        "Gy-B6E4ki-NL",
        "YG7fTaY_qlYW"
      ],
      "provenance": [],
      "toc_visible": true
    },
    "kernelspec": {
      "display_name": "Python 3",
      "name": "python3"
    },
    "language_info": {
      "codemirror_mode": {
        "name": "ipython",
        "version": 3
      },
      "file_extension": ".py",
      "mimetype": "text/x-python",
      "name": "python",
      "nbconvert_exporter": "python",
      "pygments_lexer": "ipython3",
      "version": "3.8.10"
    }
  },
  "nbformat": 4,
  "nbformat_minor": 0
}
